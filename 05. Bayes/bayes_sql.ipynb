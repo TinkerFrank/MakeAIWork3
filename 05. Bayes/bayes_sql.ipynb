{
 "cells": [
  {
   "attachments": {},
   "cell_type": "markdown",
   "id": "ce776e9e-e316-4a03-ad68-d9e0a090b894",
   "metadata": {},
   "source": [
    "<a href=\"https://it-omscholing.nl/locaties/hogeschool-rotterdam/\">\n",
    "<div>\n",
    "<a><img src='../../../pics/banner.PNG'/></a>\n",
    "</div>\n",
    "<div>\n",
    "<img src='../../../pics/miw.PNG'/>\n",
    "<em>Author: Jeroen Boogaard</em>\n",
    "</div>\n",
    "</a>"
   ]
  },
  {
   "attachments": {},
   "cell_type": "markdown",
   "id": "b57ce072-c647-44a4-8078-07045ee55df9",
   "metadata": {},
   "source": [
    "<h1>Practicum Basis Statistiek / SQL </h1>"
   ]
  },
  {
   "attachments": {},
   "cell_type": "markdown",
   "id": "9f080c20-09e7-415e-b4b8-91b340464972",
   "metadata": {},
   "source": [
    "<h2>Imports<h2>"
   ]
  },
  {
   "cell_type": "code",
   "execution_count": 1,
   "id": "fc9cc22c-9b16-4f97-be97-65fa68a4f5b6",
   "metadata": {},
   "outputs": [],
   "source": [
    "from matplotlib import pyplot as plt\n",
    "from matplotlib_venn import venn2, venn3\n",
    "from PIL import Image\n",
    "import pandas as pd\n",
    "import sqlite3\n",
    "from pathlib import Path"
   ]
  },
  {
   "attachments": {},
   "cell_type": "markdown",
   "id": "206be2e2-1646-4b41-bc5d-e23ca9ce2199",
   "metadata": {},
   "source": [
    "<h2>Extract, Transform and Load</h2>"
   ]
  },
  {
   "attachments": {},
   "cell_type": "markdown",
   "id": "27681fa7-135e-4301-9eb3-b0d945ca7f45",
   "metadata": {},
   "source": [
    "<h3>Extract</h3>"
   ]
  },
  {
   "cell_type": "code",
   "execution_count": 4,
   "id": "3dc0221e-2539-46d5-9b46-f5031b987547",
   "metadata": {},
   "outputs": [],
   "source": [
    "# https://raw.githubusercontent.com/ajturner/acetate/master/places/Countries-Europe.csv\n",
    "csvFile = \"countries_europe.csv\"\n",
    "euCsvFile = \"european_union.csv\"\n",
    "\n",
    " # Create Pandas DataFrames\n",
    "europeDF = pd.read_csv(csvFile, sep=',', header=0)\n",
    "euDF = pd.read_csv(csvFile)"
   ]
  },
  {
   "attachments": {},
   "cell_type": "markdown",
   "id": "620dd73e-33e6-42b4-89aa-c80a12833ad1",
   "metadata": {},
   "source": [
    "**Gebruik een SQL query voor het selecteren van bepaalde kolommen / features**"
   ]
  },
  {
   "cell_type": "code",
   "execution_count": null,
   "id": "2f9105c3-19e1-4219-87d6-60043111a3ba",
   "metadata": {},
   "outputs": [],
   "source": [
    "query = \"\"\"\n",
    "    SELECT Code\n",
    "    FROM countries\n",
    "\"\"\"\n",
    "\n",
    "result = dbCursor.execute(query).fetchall()\n",
    "print(result)\n",
    "print(type(result))"
   ]
  },
  {
   "attachments": {},
   "cell_type": "markdown",
   "id": "184e4908-ac20-4417-8a04-60d0a2a80f44",
   "metadata": {},
   "source": [
    "<h3>Exercise 1</h3>\n",
    "<h4>Gegeven</h4>"
   ]
  },
  {
   "cell_type": "code",
   "execution_count": null,
   "id": "649e4d4f-bcf5-40ad-9f58-55a1481b9d8d",
   "metadata": {},
   "outputs": [],
   "source": [
    "benelux = {\"Belgium\", \"The Netherlands\", \"Luxembourg\"}\n",
    "nordics = {\"Denmark\", \"Finland\", \"Iceland\", \"Norway\", \"Sweden\"}\n",
    "baltics = {\"Estonia\", \"Latvia\", \"Lithuania\"}"
   ]
  },
  {
   "attachments": {},
   "cell_type": "markdown",
   "id": "3915f0da-d771-4470-93e7-8b0337b472af",
   "metadata": {},
   "source": [
    "<h3>Load</h3>"
   ]
  },
  {
   "attachments": {},
   "cell_type": "markdown",
   "id": "c50ff7d2-c034-43fd-b19d-24a3f4d1513f",
   "metadata": {},
   "source": [
    "<p>Maak een lege database</p>"
   ]
  },
  {
   "cell_type": "code",
   "execution_count": 7,
   "id": "d671a710-9b14-4c7a-b940-171af8d5965c",
   "metadata": {},
   "outputs": [],
   "source": [
    "db = \"europe.db\""
   ]
  },
  {
   "cell_type": "code",
   "execution_count": 8,
   "id": "f43356c9",
   "metadata": {},
   "outputs": [],
   "source": [
    "dbConnection = sqlite3.connect(db)\n",
    "dbCursor = dbConnection.cursor()\n"
   ]
  },
  {
   "cell_type": "code",
   "execution_count": 9,
   "id": "e93fbfb3-a656-4d84-8a63-5c73ba1e7493",
   "metadata": {},
   "outputs": [
    {
     "data": {
      "text/plain": [
       "47"
      ]
     },
     "execution_count": 9,
     "metadata": {},
     "output_type": "execute_result"
    }
   ],
   "source": [
    "europeDF.to_sql('countries', dbConnection, if_exists='replace', index = False)\n",
    "euDF.to_sql('eu', dbConnection, if_exists='replace', index = False)"
   ]
  },
  {
   "attachments": {},
   "cell_type": "markdown",
   "id": "a851f75c-1b37-4bec-9f92-146f45457533",
   "metadata": {},
   "source": [
    "<p>Maak tabellen <u>countries</u> en <u>eu</u> o.b.v. de dataset</p>"
   ]
  },
  {
   "attachments": {},
   "cell_type": "markdown",
   "id": "413ffef2-daca-4a4a-8e6e-3810324d7e2a",
   "metadata": {},
   "source": [
    "<h3>Exercise 1</h3>\n",
    "<p>\n",
    "    Gebruik SQL queries voor het <u>joinen</u> van de tabellen <u>countries</u> en <u>eu</u> o.b.v. <u>Code</u>\n",
    "</p>"
   ]
  },
  {
   "cell_type": "code",
   "execution_count": 12,
   "id": "5e61d66c-78ec-4798-87ec-16a553d286ae",
   "metadata": {},
   "outputs": [
    {
     "data": {
      "text/plain": [
       "<sqlite3.Cursor at 0x226d4516a40>"
      ]
     },
     "execution_count": 12,
     "metadata": {},
     "output_type": "execute_result"
    }
   ],
   "source": [
    "query = '''\n",
    "SELECT *\n",
    "FROM countries\n",
    "INNER JOIN eu ON countries.code = eu.code\n",
    "'''\n",
    "dbCursor.execute(query)"
   ]
  },
  {
   "cell_type": "code",
   "execution_count": 13,
   "id": "1dc1a712",
   "metadata": {},
   "outputs": [
    {
     "name": "stdout",
     "output_type": "stream",
     "text": [
      "(3, 'Ukraine', 'Ukr.', 'UKR', 804, 603700.0, 45415596, 49.0, 32.0, 'eu', 3, 'Ukraine', 'Ukr.', 'UKR', 804, 603700.0, 45415596, 49.0, 32.0, 'eu')\n",
      "(3, 'France', 'Fr.', 'FRA', 250, 547030.0, 64768389, 46.0, 2.0, 'eu', 3, 'France', 'Fr.', 'FRA', 250, 547030.0, 64768389, 46.0, 2.0, 'eu')\n",
      "(3, 'Spain', 'Spain', 'ESP', 724, 504782.0, 46505963, 40.0, -4.0, 'eu', 3, 'Spain', 'Spain', 'ESP', 724, 504782.0, 46505963, 40.0, -4.0, 'eu')\n",
      "(3, 'Sweden', 'Swe.', 'SWE', 752, 449964.0, 9045000, 62.0, 15.0, 'eu', 3, 'Sweden', 'Swe.', 'SWE', 752, 449964.0, 9045000, 62.0, 15.0, 'eu')\n",
      "(3, 'Germany', 'Ger.', 'DEU', 276, 357021.0, 82369000, 51.5, 10.5, 'eu', 3, 'Germany', 'Ger.', 'DEU', 276, 357021.0, 82369000, 51.5, 10.5, 'eu')\n",
      "(3, 'Finland', 'Fin.', 'FIN', 246, 337030.0, 5244000, 64.0, 26.0, 'eu', 3, 'Finland', 'Fin.', 'FIN', 246, 337030.0, 5244000, 64.0, 26.0, 'eu')\n",
      "(3, 'Norway', 'Nor.', 'NOR', 578, 324220.0, 4907000, 62.0, 10.0, 'eu', 3, 'Norway', 'Nor.', 'NOR', 578, 324220.0, 4907000, 62.0, 10.0, 'eu')\n",
      "(3, 'Poland', 'Pol.', 'POL', 616, 312685.0, 38500000, 52.0, 20.0, 'eu', 3, 'Poland', 'Pol.', 'POL', 616, 312685.0, 38500000, 52.0, 20.0, 'eu')\n",
      "(3, 'Italy', 'Italy', 'ITA', 380, 301230.0, 58145000, 42.83, 12.83, 'eu', 3, 'Italy', 'Italy', 'ITA', 380, 301230.0, 58145000, 42.83, 12.83, 'eu')\n",
      "(3, 'United Kingdom', 'U.K.', 'GBR', 826, 244820.0, 62348447, 54.9, -3.12, 'eu', 3, 'United Kingdom', 'U.K.', 'GBR', 826, 244820.0, 62348447, 54.9, -3.12, 'eu')\n",
      "(3, 'Romania', 'Rom.', 'ROU', 642, 237500.0, 21959278, 46.0, 25.0, 'eu', 3, 'Romania', 'Rom.', 'ROU', 642, 237500.0, 21959278, 46.0, 25.0, 'eu')\n",
      "(3, 'Belarus', 'Bela.', 'BLR', 112, 207600.0, 9685000, 53.0, 28.0, 'eu', 3, 'Belarus', 'Bela.', 'BLR', 112, 207600.0, 9685000, 53.0, 28.0, 'eu')\n",
      "(3, 'Greece', 'Grc.', 'GRC', 300, 131940.0, 11000000, 39.0, 22.0, 'eu', 3, 'Greece', 'Grc.', 'GRC', 300, 131940.0, 11000000, 39.0, 22.0, 'eu')\n",
      "(3, 'Bulgaria', 'Blg.', 'BGR', 100, 110910.0, 7148785, 43.0, 25.0, 'eu', 3, 'Bulgaria', 'Blg.', 'BGR', 100, 110910.0, 7148785, 43.0, 25.0, 'eu')\n",
      "(3, 'Iceland', 'Ice.', 'ISL', 352, 103000.0, 308910, 65.0, -18.0, 'eu', 3, 'Iceland', 'Ice.', 'ISL', 352, 103000.0, 308910, 65.0, -18.0, 'eu')\n",
      "(3, 'Portugal', 'Port.', 'PRT', 620, 92391.0, 10676000, 39.5, -8.0, 'eu', 3, 'Portugal', 'Port.', 'PRT', 620, 92391.0, 10676000, 39.5, -8.0, 'eu')\n",
      "(3, 'Czech Republic', 'Czech Rep.', 'CZE', 203, 78866.0, 10476000, 49.75, 15.0, 'eu', 3, 'Czech Republic', 'Czech Rep.', 'CZE', 203, 78866.0, 10476000, 49.75, 15.0, 'eu')\n",
      "(3, 'Denmark', 'Den.', 'DNK', 208, 43094.0, 5484000, 56.0, 10.0, 'eu', 3, 'Denmark', 'Den.', 'DNK', 208, 43094.0, 5484000, 56.0, 10.0, 'eu')\n",
      "(4, 'Hungary', 'Hung.', 'HUN', 348, 93030.0, 9930000, 47.0, 20.0, 'eu', 4, 'Hungary', 'Hung.', 'HUN', 348, 93030.0, 9930000, 47.0, 20.0, 'eu')\n",
      "(4, 'Serbia', 'Serb.', 'SRB', 688, 88361.0, 7344847, 44.82, 20.46, 'eu', 4, 'Serbia', 'Serb.', 'SRB', 688, 88361.0, 7344847, 44.82, 20.46, 'eu')\n",
      "(4, 'Austria', 'Aus.', 'AUT', 40, 83858.0, 8205000, 47.33, 13.33, 'eu', 4, 'Austria', 'Aus.', 'AUT', 40, 83858.0, 8205000, 47.33, 13.33, 'eu')\n",
      "(4, 'Ireland', 'Ire.', 'IRL', 372, 70280.0, 4622917, 53.0, -8.0, 'eu', 4, 'Ireland', 'Ire.', 'IRL', 372, 70280.0, 4622917, 53.0, -8.0, 'eu')\n",
      "(4, 'Lithuania', 'Lith.', 'LTU', 440, 65200.0, 3565000, 56.0, 24.0, 'eu', 4, 'Lithuania', 'Lith.', 'LTU', 440, 65200.0, 3565000, 56.0, 24.0, 'eu')\n",
      "(4, 'Latvia', 'Lat.', 'LVA', 428, 64589.0, 2217969, 57.0, 25.0, 'eu', 4, 'Latvia', 'Lat.', 'LVA', 428, 64589.0, 2217969, 57.0, 25.0, 'eu')\n",
      "(4, 'Croatia', 'Cro.', 'HRV', 191, 56542.0, 4491000, 45.17, 15.5, 'eu', 4, 'Croatia', 'Cro.', 'HRV', 191, 56542.0, 4491000, 45.17, 15.5, 'eu')\n",
      "(4, 'Bosnia and Herzegovina', 'Bos.', 'BIH', 70, 51129.0, 4590000, 44.25, 17.83, 'eu', 4, 'Bosnia and Herzegovina', 'Bos.', 'BIH', 70, 51129.0, 4590000, 44.25, 17.83, 'eu')\n",
      "(4, 'Slovakia', 'Slvk.', 'SVK', 703, 48845.0, 5455000, 48.67, 19.5, 'eu', 4, 'Slovakia', 'Slvk.', 'SVK', 703, 48845.0, 5455000, 48.67, 19.5, 'eu')\n",
      "(4, 'Estonia', 'Est.', 'EST', 233, 45226.0, 1291170, 59.0, 26.0, 'eu', 4, 'Estonia', 'Est.', 'EST', 233, 45226.0, 1291170, 59.0, 26.0, 'eu')\n",
      "(4, 'Netherlands', 'Neth.', 'NLD', 528, 41526.0, 16645000, 52.5, 5.75, 'eu', 4, 'Netherlands', 'Neth.', 'NLD', 528, 41526.0, 16645000, 52.5, 5.75, 'eu')\n",
      "(4, 'Switzerland', 'Switz.', 'CHE', 756, 41290.0, 7581000, 47.0, 8.01, 'eu', 4, 'Switzerland', 'Switz.', 'CHE', 756, 41290.0, 7581000, 47.0, 8.01, 'eu')\n",
      "(4, 'Moldova', 'Mol.', 'MDA', 498, 33843.0, 4324000, 47.0, 29.0, 'eu', 4, 'Moldova', 'Mol.', 'MDA', 498, 33843.0, 4324000, 47.0, 29.0, 'eu')\n",
      "(4, 'Belgium', 'Bel.', 'BEL', 56, 30510.0, 10403000, 50.83, 4.0, 'eu', 4, 'Belgium', 'Bel.', 'BEL', 56, 30510.0, 10403000, 50.83, 4.0, 'eu')\n",
      "(4, 'Albania', 'Alb.', 'ALB', 8, 28748.0, 2986952, 41.0, 20.0, 'eu', 4, 'Albania', 'Alb.', 'ALB', 8, 28748.0, 2986952, 41.0, 20.0, 'eu')\n",
      "(4, 'Macedonia', 'Mac.', 'MKD', 807, 25333.0, 2061000, 41.83, 22.0, 'eu', 4, 'Macedonia', 'Mac.', 'MKD', 807, 25333.0, 2061000, 41.83, 22.0, 'eu')\n",
      "(4, 'Slovenia', 'Slvn.', 'SVN', 705, 20273.0, 2007000, 46.25, 15.17, 'eu', 4, 'Slovenia', 'Slvn.', 'SVN', 705, 20273.0, 2007000, 46.25, 15.17, 'eu')\n",
      "(4, 'Montenegro', 'Mont.', 'MNE', 499, 14026.0, 666730, 43.5, 19.3, 'eu', 4, 'Montenegro', 'Mont.', 'MNE', 499, 14026.0, 666730, 43.5, 19.3, 'eu')\n",
      "(4, 'Cyprus', 'Cyp.', 'CYP', 196, 9250.0, 1102677, 35.0, 33.0, 'asia', 4, 'Cyprus', 'Cyp.', 'CYP', 196, 9250.0, 1102677, 35.0, 33.0, 'asia')\n",
      "(4, 'Luxembourg', 'Lux.', 'LUX', 442, 2586.0, 497538, 49.75, 6.17, 'eu', 4, 'Luxembourg', 'Lux.', 'LUX', 442, 2586.0, 497538, 49.75, 6.17, 'eu')\n",
      "(4, 'Faroe Is.', 'Far. Is.', 'FRO', 234, 1399.0, 48228, 62.0, -7.0, 'eu', 4, 'Faroe Is.', 'Far. Is.', 'FRO', 234, 1399.0, 48228, 62.0, -7.0, 'eu')\n",
      "(4, 'Andorra', 'And.', 'AND', 20, 468.0, 84000, 42.5, 1.5, 'eu', 4, 'Andorra', 'And.', 'AND', 20, 468.0, 84000, 42.5, 1.5, 'eu')\n",
      "(4, 'Malta', 'Malta', 'MLT', 470, 316.0, 403000, 35.92, 14.43, 'eu', 4, 'Malta', 'Malta', 'MLT', 470, 316.0, 403000, 35.92, 14.43, 'eu')\n",
      "(4, 'Liechtenstein', 'Liech.', 'LIE', 438, 160.0, 35000, 47.17, 9.53, 'eu', 4, 'Liechtenstein', 'Liech.', 'LIE', 438, 160.0, 35000, 47.17, 9.53, 'eu')\n",
      "(4, 'Guernsey', 'Guern.', 'GGY', 831, 78.0, 65228, 49.58, -2.33, 'eu', 4, 'Guernsey', 'Guern.', 'GGY', 831, 78.0, 65228, 49.58, -2.33, 'eu')\n",
      "(4, 'San Marino', 'S. Mar.', 'SMR', 674, 61.2, 31477, 43.93, 12.42, 'eu', 4, 'San Marino', 'S. Mar.', 'SMR', 674, 61.2, 31477, 43.93, 12.42, 'eu')\n",
      "(4, 'Gibraltar', 'Gib.', 'GIB', 292, 6.5, 27884, 36.13, -5.35, 'eu', 4, 'Gibraltar', 'Gib.', 'GIB', 292, 6.5, 27884, 36.13, -5.35, 'eu')\n",
      "(4, 'Monaco', 'Monaco', 'MCO', 492, 2.0, 32965, 43.73, 7.42, 'eu', 4, 'Monaco', 'Monaco', 'MCO', 492, 2.0, 32965, 43.73, 7.42, 'eu')\n",
      "(4, 'Vatican City', 'Vatican City', 'VAT', 336, 0.4, 921, 41.9, 12.45, 'eu', 4, 'Vatican City', 'Vatican City', 'VAT', 336, 0.4, 921, 41.9, 12.45, 'eu')\n"
     ]
    }
   ],
   "source": [
    "result = dbCursor.fetchall()\n",
    "\n",
    "for row in result:\n",
    "    print(row)"
   ]
  },
  {
   "attachments": {},
   "cell_type": "markdown",
   "id": "7456c7a9-21d3-43a7-8762-5d6dd02b6add",
   "metadata": {},
   "source": [
    "<h2>Afhankelijke en onafhankelijke variabelen</h2>"
   ]
  },
  {
   "attachments": {},
   "cell_type": "markdown",
   "id": "b924f686-642d-41a9-b61b-cb01c19bda29",
   "metadata": {},
   "source": [
    "<h3>Overlappende uitkomsten</h3>"
   ]
  },
  {
   "cell_type": "code",
   "execution_count": 1,
   "id": "4e029cc4-5080-4cf7-a8f1-c609b3357ebd",
   "metadata": {},
   "outputs": [],
   "source": [
    "eu = {\"Austria\", \"Belgium\", \"Bulgaria\", \"Croatia\", \"Cyprus\", \"Czechia\", \"Denmark\", \"Estonia\", \"Finland\", \"France\", \"Germany\", \"Greece\", \"Hungary\", \"Ireland\", \"Italy\", \"Latvia\", \"Lithuania\", \"Luxembourg\", \"Malta\", \"The Netherlands\", \"Poland\", \"Portugal\", \"Romania\", \"Slovakia\", \"Slovenia\", \"Spain\", \"Sweden\"}\n",
    "benelux = {\"Belgium\", \"The Netherlands\", \"Luxembourg\"}\n",
    "nordics = {\"Denmark\", \"Finland\", \"Iceland\", \"Norway\", \"Sweden\"}\n",
    "baltics = {\"Estonia\", \"Latvia\", \"Lithuania\"}"
   ]
  },
  {
   "cell_type": "code",
   "execution_count": null,
   "id": "e5db0cea-3fe2-4e22-b6d1-f511e4a7bc99",
   "metadata": {},
   "outputs": [],
   "source": [
    "venn3([benelux, baltics, eu], ('Benelux', 'Baltics', 'EU'))"
   ]
  },
  {
   "attachments": {},
   "cell_type": "markdown",
   "id": "2a6640a3-38f5-4561-a6f1-3a4b26e2f39c",
   "metadata": {},
   "source": [
    "<h3>Exercise 2</h3>\n",
    "<p>\n",
    "    Gebruik SQL queries voor het verkrijgen van\n",
    "<ol>\n",
    "    <li>P(Nordics); de kans dat een land onderdeel is van de Nordics</li>\n",
    "    <li><u>P(EU)</u>; de kans dat een Europees land lid is van de Europese Unie</li>\n",
    "    <li><u>P(EU and Nordics)</u>; de kans dat een land onderdeel is van de Norics en lid is van de EU</li>\n",
    "</ol>\n",
    "Bereken met bovenstaande gegevens P(EU|Nordics); de kans dat een Europees land lid is van de Europese Unie gegeven dat het in de Nordics</li>\n",
    "</p>"
   ]
  },
  {
   "cell_type": "code",
   "execution_count": 32,
   "id": "234d255d-5fcb-46a4-b1ca-58422af2f679",
   "metadata": {},
   "outputs": [
    {
     "name": "stdout",
     "output_type": "stream",
     "text": [
      "0.18518518518518517\n"
     ]
    }
   ],
   "source": [
    "# Oplossing\n",
    "from fractions import Fraction\n",
    "Fraction((len(nordics) / len(eu)))\n",
    "print((len(nordics) / len(eu)))"
   ]
  },
  {
   "cell_type": "code",
   "execution_count": 11,
   "id": "de730249",
   "metadata": {},
   "outputs": [],
   "source": [
    "csvFile = \"countries_europe.csv\"\n",
    "europeDF = pd.read_csv(csvFile, sep=',', header=0)"
   ]
  },
  {
   "cell_type": "code",
   "execution_count": 19,
   "id": "3d8e18a8",
   "metadata": {},
   "outputs": [],
   "source": [
    "totaleu = europeDF['name'].values"
   ]
  },
  {
   "cell_type": "code",
   "execution_count": 37,
   "id": "fcf20b5e",
   "metadata": {},
   "outputs": [
    {
     "name": "stdout",
     "output_type": "stream",
     "text": [
      "0.10638297872340426\n",
      "5\n",
      "47\n"
     ]
    }
   ],
   "source": [
    "Pnordic = len(nordics) / len(totaleu)\n",
    "print(Pnordic)\n",
    "print(len(nordics))\n",
    "print(len(totaleu))"
   ]
  },
  {
   "cell_type": "code",
   "execution_count": 38,
   "id": "92c23350",
   "metadata": {},
   "outputs": [
    {
     "name": "stdout",
     "output_type": "stream",
     "text": [
      "0.574468085106383\n",
      "27\n",
      "47\n"
     ]
    }
   ],
   "source": [
    "Peumember = len(eu)/len(totaleu)\n",
    "print(Peumember)\n",
    "print(len(eu))\n",
    "print(len(totaleu))"
   ]
  },
  {
   "attachments": {},
   "cell_type": "markdown",
   "id": "de870599",
   "metadata": {},
   "source": [
    "\n",
    "$ P(EU member\\mid Nordic Country)={\\frac {P(Nordic Country\\mid EU member)P(EU member)}{P(Nordic Country)}}$"
   ]
  },
  {
   "cell_type": "code",
   "execution_count": 25,
   "id": "68912238",
   "metadata": {},
   "outputs": [
    {
     "name": "stdout",
     "output_type": "stream",
     "text": [
      "['Finland', 'Denmark', 'Sweden']\n"
     ]
    }
   ],
   "source": [
    "nordicsineu = list(set(nordics).intersection(eu))\n",
    "print(nordicsineu)"
   ]
  },
  {
   "cell_type": "code",
   "execution_count": 27,
   "id": "17a36111",
   "metadata": {},
   "outputs": [
    {
     "name": "stdout",
     "output_type": "stream",
     "text": [
      "0.1111111111111111\n"
     ]
    }
   ],
   "source": [
    "P_nordic_eumember = len(nordicsineu)/len(eu)\n",
    "print(P_nordic_eumember)"
   ]
  },
  {
   "cell_type": "code",
   "execution_count": 33,
   "id": "4a50963c",
   "metadata": {},
   "outputs": [
    {
     "name": "stdout",
     "output_type": "stream",
     "text": [
      "0.6000000000000001\n"
     ]
    }
   ],
   "source": [
    "P_eumember_givennordic = (P_nordic_eumember * Peumember)/Pnordic\n",
    "print(P_eumember_givennordic)"
   ]
  },
  {
   "cell_type": "code",
   "execution_count": 39,
   "id": "ef157562",
   "metadata": {},
   "outputs": [
    {
     "name": "stdout",
     "output_type": "stream",
     "text": [
      "['Finland', 'Denmark', 'Sweden']\n",
      "{'Iceland', 'Denmark', 'Sweden', 'Norway', 'Finland'}\n"
     ]
    }
   ],
   "source": [
    "len(nordicsineu)/len(nordics)\n",
    "print(nordicsineu)\n",
    "print(nordics)"
   ]
  },
  {
   "cell_type": "code",
   "execution_count": null,
   "id": "f57f3aef-7b89-4d09-a064-c63c777bebcf",
   "metadata": {},
   "outputs": [],
   "source": [
    "# Close connection to SQLite database\n",
    "\n",
    "dbConnection.close()"
   ]
  }
 ],
 "metadata": {
  "kernelspec": {
   "display_name": "Python 3 (ipykernel)",
   "language": "python",
   "name": "python3"
  },
  "language_info": {
   "codemirror_mode": {
    "name": "ipython",
    "version": 3
   },
   "file_extension": ".py",
   "mimetype": "text/x-python",
   "name": "python",
   "nbconvert_exporter": "python",
   "pygments_lexer": "ipython3",
   "version": "3.11.3"
  },
  "vscode": {
   "interpreter": {
    "hash": "f68f299bfc83d1d1d9574646c62f1d323f7babfe5075d8c6a87cc260ed8a7f36"
   }
  }
 },
 "nbformat": 4,
 "nbformat_minor": 5
}
