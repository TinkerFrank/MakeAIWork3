{
 "cells": [
  {
   "cell_type": "code",
   "execution_count": 92,
   "metadata": {},
   "outputs": [],
   "source": [
    "import numpy as np"
   ]
  },
  {
   "cell_type": "code",
   "execution_count": 93,
   "metadata": {},
   "outputs": [
    {
     "data": {
      "text/plain": [
       "array([[ 8,  4,  2,  3,  9,  1],\n",
       "       [ 0,  6,  4,  3,  7, 10],\n",
       "       [ 2,  0,  1,  3,  5,  8],\n",
       "       [ 6,  3,  1,  4,  8,  2],\n",
       "       [ 0,  2,  4,  3,  5,  9],\n",
       "       [ 2,  7,  9,  1,  3,  5]])"
      ]
     },
     "execution_count": 93,
     "metadata": {},
     "output_type": "execute_result"
    }
   ],
   "source": [
    "input = np.array([[8,4,2,3,9,1],[0,6,4,3,7,10],[2,0,1,3,5,8],[6,3,1,4,8,2],[0,2,4,3,5,9],[2,7,9,1,3,5]])\n",
    "input"
   ]
  },
  {
   "cell_type": "code",
   "execution_count": 94,
   "metadata": {},
   "outputs": [
    {
     "data": {
      "text/plain": [
       "array([[ 0,  0,  0,  0,  0,  0,  0,  0],\n",
       "       [ 0,  8,  4,  2,  3,  9,  1,  0],\n",
       "       [ 0,  0,  6,  4,  3,  7, 10,  0],\n",
       "       [ 0,  2,  0,  1,  3,  5,  8,  0],\n",
       "       [ 0,  6,  3,  1,  4,  8,  2,  0],\n",
       "       [ 0,  0,  2,  4,  3,  5,  9,  0],\n",
       "       [ 0,  2,  7,  9,  1,  3,  5,  0],\n",
       "       [ 0,  0,  0,  0,  0,  0,  0,  0]])"
      ]
     },
     "execution_count": 94,
     "metadata": {},
     "output_type": "execute_result"
    }
   ],
   "source": [
    "inputpadded = np.pad(input,1)\n",
    "inputpadded"
   ]
  },
  {
   "cell_type": "code",
   "execution_count": 95,
   "metadata": {},
   "outputs": [
    {
     "data": {
      "text/plain": [
       "8"
      ]
     },
     "execution_count": 95,
     "metadata": {},
     "output_type": "execute_result"
    }
   ],
   "source": [
    "len(inputpadded[0])"
   ]
  },
  {
   "cell_type": "code",
   "execution_count": 96,
   "metadata": {},
   "outputs": [
    {
     "data": {
      "text/plain": [
       "array([[ 2,  0,  3],\n",
       "       [ 1,  1,  0],\n",
       "       [ 3, -1,  4]])"
      ]
     },
     "execution_count": 96,
     "metadata": {},
     "output_type": "execute_result"
    }
   ],
   "source": [
    "kernel = np.array([[2,0,3],[1,1,0],[3,-1,4]])\n",
    "kernel"
   ]
  },
  {
   "cell_type": "code",
   "execution_count": 97,
   "metadata": {},
   "outputs": [
    {
     "data": {
      "text/plain": [
       "3"
      ]
     },
     "execution_count": 97,
     "metadata": {},
     "output_type": "execute_result"
    }
   ],
   "source": [
    "len(kernel)"
   ]
  },
  {
   "cell_type": "code",
   "execution_count": 98,
   "metadata": {},
   "outputs": [
    {
     "data": {
      "text/plain": [
       "array([[0, 0, 0],\n",
       "       [0, 8, 4],\n",
       "       [0, 0, 6]])"
      ]
     },
     "execution_count": 98,
     "metadata": {},
     "output_type": "execute_result"
    }
   ],
   "source": [
    "test = inputpadded[0:3,0:3]\n",
    "test"
   ]
  },
  {
   "cell_type": "code",
   "execution_count": 99,
   "metadata": {},
   "outputs": [
    {
     "data": {
      "text/plain": [
       "array([[ 0,  0,  0],\n",
       "       [ 0,  8,  0],\n",
       "       [ 0,  0, 24]])"
      ]
     },
     "execution_count": 99,
     "metadata": {},
     "output_type": "execute_result"
    }
   ],
   "source": [
    "result = test*kernel\n",
    "result"
   ]
  },
  {
   "cell_type": "code",
   "execution_count": 100,
   "metadata": {},
   "outputs": [
    {
     "data": {
      "text/plain": [
       "32"
      ]
     },
     "execution_count": 100,
     "metadata": {},
     "output_type": "execute_result"
    }
   ],
   "source": [
    "result.sum()"
   ]
  },
  {
   "cell_type": "code",
   "execution_count": 101,
   "metadata": {},
   "outputs": [
    {
     "data": {
      "text/plain": [
       "array([[ 0,  0,  0,  0,  0,  0,  0,  0],\n",
       "       [ 0,  8,  4,  2,  3,  9,  1,  0],\n",
       "       [ 0,  0,  6,  4,  3,  7, 10,  0],\n",
       "       [ 0,  2,  0,  1,  3,  5,  8,  0],\n",
       "       [ 0,  6,  3,  1,  4,  8,  2,  0],\n",
       "       [ 0,  0,  2,  4,  3,  5,  9,  0],\n",
       "       [ 0,  2,  7,  9,  1,  3,  5,  0],\n",
       "       [ 0,  0,  0,  0,  0,  0,  0,  0]])"
      ]
     },
     "execution_count": 101,
     "metadata": {},
     "output_type": "execute_result"
    }
   ],
   "source": [
    "inputpadded"
   ]
  },
  {
   "cell_type": "code",
   "execution_count": 102,
   "metadata": {},
   "outputs": [
    {
     "data": {
      "text/plain": [
       "array([[38, 38, 58, 55],\n",
       "       [33, 46, 64, 56],\n",
       "       [30, 27, 51, 82],\n",
       "       [52, 40, 71, 42]])"
      ]
     },
     "execution_count": 102,
     "metadata": {},
     "output_type": "execute_result"
    }
   ],
   "source": [
    "temp = []\n",
    "\n",
    "for i in range(len(input)-2):\n",
    "    for j in range(len(input[0])-2):\n",
    "        result = input[i:i+len(kernel),j:j+len(kernel)]*kernel\n",
    "        temp.append(result.sum())\n",
    "  \n",
    "conv_matrix =np.array(temp).reshape((4,4))\n",
    "conv_matrix"
   ]
  },
  {
   "cell_type": "code",
   "execution_count": 89,
   "metadata": {},
   "outputs": [
    {
     "data": {
      "text/plain": [
       "array([[32, 22, 32, 42, 54, 21],\n",
       "       [10, 38, 38, 58, 55, 42],\n",
       "       [26, 33, 46, 64, 56, 49],\n",
       "       [14, 30, 27, 51, 82, 26],\n",
       "       [35, 52, 40, 71, 42, 34],\n",
       "       [ 8, 21, 29, 33, 37, 18]])"
      ]
     },
     "execution_count": 89,
     "metadata": {},
     "output_type": "execute_result"
    }
   ],
   "source": [
    "temp = []\n",
    "\n",
    "for i in range(len(inputpadded)-2):\n",
    "    for j in range(len(inputpadded[0])-2):\n",
    "        result = inputpadded[i:i+len(kernel),j:j+len(kernel)]*kernel\n",
    "        temp.append(result.sum())\n",
    "  \n",
    "conv_matrix =np.array(temp).reshape((6,6))\n",
    "conv_matrix"
   ]
  },
  {
   "cell_type": "code",
   "execution_count": 79,
   "metadata": {},
   "outputs": [
    {
     "data": {
      "text/plain": [
       "array([[32, 22],\n",
       "       [10, 38]])"
      ]
     },
     "execution_count": 79,
     "metadata": {},
     "output_type": "execute_result"
    }
   ],
   "source": [
    "test = conv_matrix[0:2,0:2]\n",
    "test"
   ]
  },
  {
   "cell_type": "code",
   "execution_count": 80,
   "metadata": {},
   "outputs": [
    {
     "data": {
      "text/plain": [
       "10"
      ]
     },
     "execution_count": 80,
     "metadata": {},
     "output_type": "execute_result"
    }
   ],
   "source": [
    "abs(np.amin(test))"
   ]
  },
  {
   "cell_type": "code",
   "execution_count": 81,
   "metadata": {},
   "outputs": [
    {
     "data": {
      "text/plain": [
       "38"
      ]
     },
     "execution_count": 81,
     "metadata": {},
     "output_type": "execute_result"
    }
   ],
   "source": [
    "np.amax(test)"
   ]
  },
  {
   "cell_type": "code",
   "execution_count": 82,
   "metadata": {},
   "outputs": [
    {
     "data": {
      "text/plain": [
       "array([[38, 38, 58, 58, 55],\n",
       "       [38, 46, 64, 64, 56],\n",
       "       [33, 46, 64, 82, 82],\n",
       "       [52, 52, 71, 82, 82],\n",
       "       [52, 52, 71, 71, 42]])"
      ]
     },
     "execution_count": 82,
     "metadata": {},
     "output_type": "execute_result"
    }
   ],
   "source": [
    "temp = []\n",
    "poolingsize = 2\n",
    "stride = 0\n",
    "for i in range(len(conv_matrix)-1):\n",
    "    for j in range(len(conv_matrix[0])-1):\n",
    "        result = conv_matrix[i:i+(poolingsize),j:j+(poolingsize)]\n",
    "        if abs(np.amin(result)) > np.amax(result):\n",
    "            temp.append(np.amin(result))\n",
    "        else:\n",
    "            temp.append(np.amax(result))\n",
    "  \n",
    "pooling_matrix =np.array(temp).reshape((5,5))\n",
    "pooling_matrix"
   ]
  },
  {
   "cell_type": "code",
   "execution_count": 83,
   "metadata": {},
   "outputs": [
    {
     "data": {
      "text/plain": [
       "array([[38, 58, 55],\n",
       "       [33, 64, 82],\n",
       "       [52, 71, 42]])"
      ]
     },
     "execution_count": 83,
     "metadata": {},
     "output_type": "execute_result"
    }
   ],
   "source": [
    "temp = pooling_matrix[:,[0,2,4]]\n",
    "pooling_matrixstrided = temp[[0,2,4],:]\n",
    "pooling_matrixstrided"
   ]
  }
 ],
 "metadata": {
  "kernelspec": {
   "display_name": "Python 3",
   "language": "python",
   "name": "python3"
  },
  "language_info": {
   "codemirror_mode": {
    "name": "ipython",
    "version": 3
   },
   "file_extension": ".py",
   "mimetype": "text/x-python",
   "name": "python",
   "nbconvert_exporter": "python",
   "pygments_lexer": "ipython3",
   "version": "3.11.2"
  },
  "orig_nbformat": 4
 },
 "nbformat": 4,
 "nbformat_minor": 2
}
