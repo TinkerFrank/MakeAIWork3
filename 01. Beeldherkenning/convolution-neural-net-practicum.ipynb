{
 "cells": [
  {
   "attachments": {},
   "cell_type": "markdown",
   "id": "e2ad83ef-4ee3-4463-9b5e-127f12237363",
   "metadata": {},
   "source": [
    "# Practicum Convolution Neural Nets (CNN)"
   ]
  },
  {
   "attachments": {},
   "cell_type": "markdown",
   "id": "1f0beb08-683b-4d1a-8a3b-7c2938aef74f",
   "metadata": {},
   "source": [
    "## Imports"
   ]
  },
  {
   "cell_type": "code",
   "execution_count": 54,
   "id": "bae69bcc-d3fb-4d7a-898c-dd0277d573c4",
   "metadata": {
    "tags": []
   },
   "outputs": [],
   "source": [
    "# Voeg imports toe als je ze nodig hebt\n",
    "import torch\n",
    "import torchvision.io as tio\n",
    "import matplotlib.pyplot as plt\n",
    "\n",
    "%matplotlib inline "
   ]
  },
  {
   "attachments": {},
   "cell_type": "markdown",
   "id": "ab893eb4-4667-409f-9f7d-1f2e708be670",
   "metadata": {},
   "source": [
    "## Bronnen\n",
    "\n",
    "EuroSAT project: https://github.com/phelber/eurosat\n",
    "\n",
    "Pytorch Neural Nets: https://pytorch.org/docs/stable/nn.html\n",
    "\n",
    "Kernels: https://en.wikipedia.org/wiki/Kernel_(image_processing)\n",
    "\n",
    "A simple CNN with Pytorch: https://tomroth.com.au/pytorch-cnn\n",
    "\n",
    "A guide to convolution arithmetic for deep learning: https://arxiv.org/pdf/1603.07285.pdf\n",
    "\n",
    "Using Dropout Regularization in PyTorch Models: https://machinelearningmastery.com/using-dropout-regularization-in-pytorch-models\n",
    "\n",
    "if neurons are randomly dropped out of the network during training, other neurons will have to step in and handle the representation required to make predictions for the missing neurons. This is believed to result in multiple independent internal representations being learned by the network.\n",
    "\n",
    "The effect is that the network becomes less sensitive to the specific weights of neurons. This, in turn, results in a network capable of better generalization and less likely to overfit the training data."
   ]
  },
  {
   "attachments": {},
   "cell_type": "markdown",
   "id": "aa07a2b7-f16c-4c82-8686-dc1d055cf908",
   "metadata": {},
   "source": [
    "## Context\n",
    "\n",
    "Dit practicum bestaat uit twee onderdelen: het toepassen van een convolutie en pooling filter, en het bouwen en trainen van een eenvoudig convolutional neural net dat een industrieterrein van een bos kan onderscheiden. Voor beide oefeningen gebruiken we de EuroSAT_RGB dataset."
   ]
  },
  {
   "attachments": {},
   "cell_type": "markdown",
   "id": "5305365c-a61c-4dea-adf8-2e9dddef9b82",
   "metadata": {},
   "source": [
    "## Voorbereiding\n",
    "\n",
    "1.  Download de EuroSAT_RGB dataset.\n",
    "\n",
    "Zie https://zenodo.org/record/7711810#.ZAm3k-zMKEA voor de beschrijving.\n",
    "\n",
    "\n",
    "2. Unzip de EuroSAT_RGB.zip in de folder van dit notebook (. path) en bekijk de inhoud."
   ]
  },
  {
   "attachments": {},
   "cell_type": "markdown",
   "id": "5da250e7-2075-411c-b097-6bf232981619",
   "metadata": {
    "tags": []
   },
   "source": [
    "## Opdrachten"
   ]
  },
  {
   "attachments": {},
   "cell_type": "markdown",
   "id": "41b5b973-72e7-4159-88eb-ea86258a26fd",
   "metadata": {},
   "source": [
    "### Opdracht 1: afbeelding inladen\n",
    "\n",
    "PyTorch Vision maakt het inladen van afbeeldingen gemakkelijk via:\n",
    "\n",
    "https://pytorch.org/vision/stable/io.html"
   ]
  },
  {
   "cell_type": "code",
   "execution_count": 55,
   "id": "fb167bd8-8241-47ff-ba8c-c9a59f6cf0e8",
   "metadata": {
    "tags": []
   },
   "outputs": [],
   "source": [
    "# a. Localiseer de afbeelding 'Industrial_1.jpg'\n",
    "\n",
    "## \\data\\EuroSat\\Industrial\\Industrial_1.jpg\n",
    "\n",
    "# b. Wat is het relative pad van 'Industrial_1.jpg'?\n",
    "\n",
    "## \\data\\EuroSat\\Industrial\\\n",
    "\n",
    "# c. Bekijk de documentatie van de PyTorch io module\n",
    "\n",
    "## https://pytorch.org/vision/stable/io.html\n",
    "## read_image(path[, mode])\n",
    "## Reads a JPEG or PNG image into a 3 dimensional RGB or grayscale Tensor.\n",
    "\n",
    "# d. Laad de afbeelding 'Industrial_1.jpg' in (variable 'industrial')"
   ]
  },
  {
   "cell_type": "code",
   "execution_count": 70,
   "id": "2572b8e5",
   "metadata": {},
   "outputs": [
    {
     "data": {
      "text/plain": [
       "torch.Tensor"
      ]
     },
     "execution_count": 70,
     "metadata": {},
     "output_type": "execute_result"
    }
   ],
   "source": [
    "path_data = './data/EuroSat/Industrial/'\n",
    "path_data_forest = './data/EuroSat/Forest/'\n",
    "industrial = tio.read_image(path_data + 'industrial_1.jpg')\n",
    "type(industrial)"
   ]
  },
  {
   "cell_type": "code",
   "execution_count": 57,
   "id": "5c0cfa31",
   "metadata": {},
   "outputs": [
    {
     "data": {
      "text/plain": [
       "torch.Size([3, 64, 64])"
      ]
     },
     "execution_count": 57,
     "metadata": {},
     "output_type": "execute_result"
    }
   ],
   "source": [
    "industrial.shape"
   ]
  },
  {
   "cell_type": "code",
   "execution_count": 58,
   "id": "6c4d271a",
   "metadata": {},
   "outputs": [
    {
     "data": {
      "image/png": "[encoded data removed]",
      "text/plain": [
       "<PIL.Image.Image image mode=RGB size=64x64>"
      ]
     },
     "metadata": {},
     "output_type": "display_data"
    }
   ],
   "source": [
    "# plt.imshow(industrial, interpolation='nearest')\n",
    "# plt.show\n",
    "# doesnt work cuz 3,64,64 not 64,64,3\n",
    "import torchvision.transforms.functional as F\n",
    "img = F.to_pil_image(industrial)\n",
    "\n",
    "display(img) # img.show() opens up a window instead of inline"
   ]
  },
  {
   "attachments": {},
   "cell_type": "markdown",
   "id": "5e2c5852-b585-42ce-83b0-71d725cbeddd",
   "metadata": {},
   "source": [
    "### Opdracht 2: convolutie + padding uitvoeren\n",
    "\n",
    "De basis-ingrediënten van een CNN, convolutie en pooling, hebben we al met de hand uitgevoerd.\n",
    "\n",
    "Ditmaal voeren we een convolutie filter uit met PyTorch Functional:\n",
    "\n",
    "https://pytorch.org/docs/stable/nn.functional.html"
   ]
  },
  {
   "cell_type": "code",
   "execution_count": 59,
   "id": "22cbee1c-3871-4eb0-9fd8-be5695f7c6d6",
   "metadata": {},
   "outputs": [],
   "source": [
    "# a. Bekijk het voorbeeld helemaal onderaan de documentatie over conv2d\n",
    "        # With square kernels and equal stride\n",
    "        # filters = torch.randn(8, 4, 3, 3)\n",
    "        # inputs = torch.randn(1, 4, 5, 5)\n",
    "        # F.conv2d(inputs, filters, padding=1)"
   ]
  },
  {
   "cell_type": "code",
   "execution_count": 60,
   "id": "e20f0064",
   "metadata": {},
   "outputs": [
    {
     "data": {
      "text/plain": [
       "torch.Size([3, 64, 64])"
      ]
     },
     "execution_count": 60,
     "metadata": {},
     "output_type": "execute_result"
    }
   ],
   "source": [
    "# b. Welke dimensie heeft de tensor 'industrial'?\n",
    "industrial.shape"
   ]
  },
  {
   "cell_type": "code",
   "execution_count": 61,
   "id": "05ec42b8",
   "metadata": {},
   "outputs": [
    {
     "data": {
      "text/plain": [
       "torch.Size([64, 64])"
      ]
     },
     "execution_count": 61,
     "metadata": {},
     "output_type": "execute_result"
    }
   ],
   "source": [
    "industrial[0][:].shape"
   ]
  },
  {
   "cell_type": "code",
   "execution_count": 62,
   "id": "3266bc03",
   "metadata": {},
   "outputs": [
    {
     "data": {
      "text/plain": [
       "torch.Tensor"
      ]
     },
     "execution_count": 62,
     "metadata": {},
     "output_type": "execute_result"
    }
   ],
   "source": [
    "# c. Maak een 3 x 3 kernel om een edge te detecteren:\n",
    "\n",
    "    #    - Voor kernels zie bronnen\n",
    "    #    - Representeer de kernel als een tensor met naam 'edge_filter'\n",
    "\n",
    "edge_filter = torch.Tensor([\n",
    "            [ 1,  1,  1], \n",
    "            [ 0,  0, 0 ], \n",
    "            [-1, -1, -1]\n",
    "])\n",
    "edge_filter\n",
    "type(edge_filter)"
   ]
  },
  {
   "cell_type": "code",
   "execution_count": 65,
   "id": "002ad523",
   "metadata": {},
   "outputs": [],
   "source": [
    "\n",
    "# d. Ontwerp een conv2d filter:\n",
    "\n",
    "#    - Geef 'edge_filter' mee\n",
    "#    - De default stride is 1 (geeft aan hoeveel de kernel verplaatst per stap)\n",
    "#    - De default padding is 0 (geeft aan hoe we omgaan met de randen)\n",
    "\n",
    "\n",
    "## option to use scipy convolve2d or the numpy only method deviced in the previous assignment\n",
    "import numpy as np\n",
    "\n",
    "def conv_single_step(X_slice, k):\n",
    "  return np.sum(X_slice * k)\n",
    "\n",
    "def conv2dfilter(image, kernel): \n",
    "        height, width = image.shape\n",
    "        f, f = kernel.shape\n",
    "        H = int((height-f)+1)\n",
    "        W = int((width-f)+1)\n",
    "        Z = np.zeros((H,W))\n",
    "\n",
    "        for h in range(H):\n",
    "            vert_start = h\n",
    "            vert_end = f+h\n",
    "            for w in range(W): \n",
    "                horiz_start = w\n",
    "                horiz_end = f+w\n",
    "                a_slice_prev = image[vert_start:vert_end , horiz_start:horiz_end]  \n",
    "                Z[h, w] = conv_single_step(a_slice_prev, kernel) \n",
    "        \n",
    "        return Z\n"
   ]
  },
  {
   "cell_type": "code",
   "execution_count": 67,
   "id": "4f2f1595",
   "metadata": {},
   "outputs": [],
   "source": [
    "# e. Pas je ontworpen filter toe op 'Industrial_1.jpg'\n",
    "# f. Toon het resultaat\n",
    "industrialconv1 = conv2dfilter(industrial[0][:].numpy(), edge_filter.numpy()) #had to convert to numpy to work"
   ]
  },
  {
   "cell_type": "code",
   "execution_count": 69,
   "id": "93fb335a",
   "metadata": {},
   "outputs": [
    {
     "data": {
      "text/plain": [
       "<function matplotlib.pyplot.show(close=None, block=None)>"
      ]
     },
     "execution_count": 69,
     "metadata": {},
     "output_type": "execute_result"
    },
    {
     "data": {
      "image/png": "[encoded data removed]",
      "text/plain": [
       "<Figure size 640x480 with 1 Axes>"
      ]
     },
     "metadata": {},
     "output_type": "display_data"
    }
   ],
   "source": [
    "plt.imshow(industrialconv1, interpolation='nearest')\n",
    "plt.show"
   ]
  },
  {
   "cell_type": "code",
   "execution_count": 84,
   "id": "40c8e125",
   "metadata": {},
   "outputs": [
    {
     "data": {
      "text/plain": [
       "<matplotlib.image.AxesImage at 0x2371fb255d0>"
      ]
     },
     "execution_count": 84,
     "metadata": {},
     "output_type": "execute_result"
    },
    {
     "data": {
      "image/png": "[encoded data removed]",
      "text/plain": [
       "<Figure size 640x480 with 1 Axes>"
      ]
     },
     "metadata": {},
     "output_type": "display_data"
    }
   ],
   "source": [
    "# g. Herhaal bovenstaande stappen maar dan voor 'Forrest_1.jpg' <-- forest with 1 r\n",
    "\n",
    "forest = tio.read_image(path_data_forest + 'Forest_1.jpg')\n",
    "plt.imshow(forest.permute(1,2,0)) #re-arrange so channels at postion 0 are put lat"
   ]
  },
  {
   "cell_type": "code",
   "execution_count": 77,
   "id": "99aac2ac",
   "metadata": {},
   "outputs": [
    {
     "data": {
      "text/plain": [
       "<function matplotlib.pyplot.show(close=None, block=None)>"
      ]
     },
     "execution_count": 77,
     "metadata": {},
     "output_type": "execute_result"
    },
    {
     "data": {
      "image/png": "[encoded data removed]",
      "text/plain": [
       "<Figure size 640x480 with 1 Axes>"
      ]
     },
     "metadata": {},
     "output_type": "display_data"
    }
   ],
   "source": [
    "\n",
    "forestconv2d = conv2dfilter(forest[0][:].numpy(), edge_filter.numpy()) #had to convert to numpy to work\n",
    "plt.imshow(forestconv2d, interpolation='nearest')\n",
    "plt.show"
   ]
  },
  {
   "attachments": {},
   "cell_type": "markdown",
   "id": "6574b602-78bb-4bd0-b52b-5508f69cbbaf",
   "metadata": {},
   "source": [
    "### Reflectie\n",
    "\n",
    "Zijn 'Industrial_1.jpg' en 'Forrest_1.jpg' na een convolutie beter te onderscheiden?"
   ]
  },
  {
   "cell_type": "code",
   "execution_count": null,
   "id": "c317397a-a336-4c5e-8cf3-02fc7d5c6a16",
   "metadata": {},
   "outputs": [],
   "source": [
    "# Extra: varieer de stride en de padding en toon de resultaten"
   ]
  },
  {
   "attachments": {},
   "cell_type": "markdown",
   "id": "b94c91d7-d9a1-4e73-9f13-ada5e0e3324d",
   "metadata": {},
   "source": [
    "### Reflectie\n",
    "\n",
    "Wat is de invloed van padding en stride op de uitkomst?"
   ]
  },
  {
   "attachments": {},
   "cell_type": "markdown",
   "id": "ff0b72b5-c897-46c1-bef7-033a0881f548",
   "metadata": {},
   "source": [
    "### Opdracht 3: pooling uitvoeren\n",
    "\n",
    "Met PyTorch Functional kunnen we ook een pooling filter toepassen."
   ]
  },
  {
   "cell_type": "code",
   "execution_count": null,
   "id": "84a85a20-7ca7-49c2-a309-19044ddd6bf0",
   "metadata": {
    "tags": []
   },
   "outputs": [],
   "source": [
    "# a. Bekijk de pooling opties en kies de juiste avg-variant\n",
    "\n",
    "## https://pytorch.org/docs/stable/nn.functional.html#pooling-functions\n",
    "## https://pytorch.org/docs/stable/generated/torch.nn.functional.avg_pool2d.html#torch.nn.functional.avg_pool2d\n",
    "\n",
    "# b. Pas pooling toe op de afbeelding 'Industrial_1.jpg':\n",
    "\n",
    "    #    - Kies een 3x3 kernel en een stride van 1"
   ]
  },
  {
   "cell_type": "code",
   "execution_count": null,
   "id": "081c98c0",
   "metadata": {},
   "outputs": [],
   "source": [
    "torch.nn.functional"
   ]
  },
  {
   "cell_type": "code",
   "execution_count": null,
   "id": "bfea84c5",
   "metadata": {},
   "outputs": [],
   "source": [
    "# c. Herhaal de bovenstaande stappen voor voor 'Forrest_1.jpg'"
   ]
  },
  {
   "attachments": {},
   "cell_type": "markdown",
   "id": "36a09543-15ad-4222-9051-5aa536955c3b",
   "metadata": {},
   "source": [
    "### Reflectie\n",
    "\n",
    "Komt de visuele uitkomst overeen met je verwachtingen?"
   ]
  },
  {
   "cell_type": "code",
   "execution_count": null,
   "id": "e75fe4ef-1016-4e0a-8657-8b662c58cc92",
   "metadata": {
    "tags": []
   },
   "outputs": [],
   "source": [
    "# Extra: varieer de stride en de kernel"
   ]
  },
  {
   "attachments": {},
   "cell_type": "markdown",
   "id": "4b93dbb9-53e0-4afa-b83b-70028c73f30f",
   "metadata": {},
   "source": [
    "### Reflectie\n",
    "\n",
    "Wat is de invloed van padding en stride op de uitkomst?"
   ]
  },
  {
   "attachments": {},
   "cell_type": "markdown",
   "id": "2054047a-79ca-4fe0-bd17-2de8ded73320",
   "metadata": {},
   "source": [
    "### Opdracht 4: convolutie en pooling combineren\n",
    "\n",
    "Een convolutional neural net combineert afwisselend convolutie en pooling in de eerste lagen.\n",
    "\n",
    "We kunnen nu het effect van deze combinatie onderzoeken:\n",
    "\n",
    "- Convolutie\n",
    "- Pooling"
   ]
  },
  {
   "cell_type": "code",
   "execution_count": null,
   "id": "0266c837-6e9b-4e43-9537-bc576e45df45",
   "metadata": {},
   "outputs": [],
   "source": [
    "# a. Bedenk en maak zelf een 2d convolution filter\n",
    "\n",
    "# b. Bedenk en maak zelf een 2d pooling filter\n",
    "\n",
    "# c. Pas nu de convolutie toe op 'Industrial_1.jpg'\n",
    "\n",
    "# d. Pas vervolgens een pooling toe op de uitkomst van c.\n",
    "\n",
    "# e. Doe hetzelfde voor de afbeelding 'Forrest_1.jpg'"
   ]
  },
  {
   "attachments": {},
   "cell_type": "markdown",
   "id": "d444bfc7-3460-427d-b6a3-2f498ef2813e",
   "metadata": {},
   "source": [
    "### Reflectie\n",
    "\n",
    "- Verschilt de uitkomst veel van de combinatie veel met convolutie en pooling?\n",
    "- En zijn de afbeeldingen 'Industrial_1.jpg' en 'Forrest_1.jpg' beter te onderscheiden?"
   ]
  },
  {
   "cell_type": "code",
   "execution_count": null,
   "id": "e43c29fd-3908-4d3b-8cb3-694f8c717c2c",
   "metadata": {},
   "outputs": [],
   "source": [
    "# Extra: bereid de combinatie uit met nog een extra convolutie en pooling laag"
   ]
  },
  {
   "attachments": {},
   "cell_type": "markdown",
   "id": "d8243671-21a0-45b2-883a-6c9ab35756f1",
   "metadata": {},
   "source": [
    "### Reflectie\n",
    "\n",
    "Heeft een extra laag veel invloed op de onderscheidbaarheid van de afbeeldingen?"
   ]
  },
  {
   "attachments": {},
   "cell_type": "markdown",
   "id": "fd748ec9-c052-43ba-8a7f-110e47542d92",
   "metadata": {},
   "source": [
    "### Opdracht 5: dataset prepareren\n",
    "\n",
    "Om het neurale netwerk te trainen moeten we de dataset opsplitsen in labels (Y, de categoriën) en input afbeeldingen (X)."
   ]
  },
  {
   "cell_type": "code",
   "execution_count": null,
   "id": "5563c265-e471-4f8b-a388-4da8229c5067",
   "metadata": {
    "tags": []
   },
   "outputs": [],
   "source": [
    "# a. Denk nog eens terug aan hoe we kruisjes van rondjes van elkaar konden onderscheiden\n",
    "\n",
    "#    - Hoe representeerden we de labels?\n",
    "#    - Hoe representeerden we de kruisjes en de rondjes?\n",
    "#    - Hoe combineerden we dit tot een dataset?\n",
    "\n",
    "# b. Hoe kunnen we de labels 'Industrials' en 'Forrest' dus representeren?\n",
    "\n",
    "# c. Vorm nu een dataset voor 'Industrials' en 'Forrest'\n",
    "\n",
    "# d. Extra: implementeer bovenstaande via een Dataset en DataLoader class\n",
    "#           (zie https://pytorch.org/docs/stable/data.html voor verdere details)"
   ]
  },
  {
   "attachments": {},
   "cell_type": "markdown",
   "id": "213813ff-a44d-427f-bb16-661673e8a333",
   "metadata": {},
   "source": [
    "### Opdracht 6: CNN ontwerpen\n",
    "\n",
    "We kunnen een convolutional neural net opbouwen met convolutie, pooling en fully connected lagen. Hieronder definiëren we een topologie om een afbeeldingen van 32 x 32 te onderscheiden.\n",
    "\n",
    "De topologie is gebaseerd op de blog post 'A simple CNN with Pytorch'. Dus zie het artikel voor extra details."
   ]
  },
  {
   "cell_type": "code",
   "execution_count": null,
   "id": "27a84b2a-3058-459d-8fb5-3fe8d0a7b216",
   "metadata": {},
   "outputs": [],
   "source": [
    "#-------------------------------------------------------\n",
    "\n",
    "class CNN(nn.Module):\n",
    "    \n",
    "    #-------------------------------------------------------\n",
    "    \n",
    "    def __init__(self):\n",
    "        \n",
    "        # Because we inherit from Module base class\n",
    "        super().__init__()\n",
    "        \n",
    "        # RGB input, 6 filters, kernel of 5 x 5\n",
    "        self.conv1 = nn.Conv2d(3, 6, 5)\n",
    "        \n",
    "        # Filter is 2 x 2 with a stride of 2 (defined once, used two times)\n",
    "        self.pool = nn.MaxPool2d(2, 2)\n",
    "        \n",
    "        # in_channels = 6 because self.conv1 output has 6 channels\n",
    "        self.conv2 = nn.Conv2d(6, 16, 5)\n",
    "        \n",
    "        # Fully connected layer matched on output of conv2 layer\n",
    "        self.fc1 = nn.Linear(16 * 5 * 5, 120)\n",
    "        \n",
    "        # Fully connected layer\n",
    "        self.fc2 = nn.Linear(120, 84)\n",
    "        \n",
    "        # We only have 2 labels\n",
    "        self.fc3 = nn.Linear(84, 2)\n",
    "        \n",
    "    #-------------------------------------------------------\n",
    "        \n",
    "    def forward(self, x):\n",
    "        \n",
    "        # Convolution with relu layers\n",
    "        x = self.pool(F.relu(self.conv1(x)))\n",
    "        x = self.pool(F.relu(self.conv2(x)))\n",
    "        \n",
    "        # To match the output of the conv2 layer onto the first fully connected layer\n",
    "        # Like reshape() but makes no copy (reuses underlaying data)\n",
    "        x = x.view(-1, 16 * 5 * 5)\n",
    "        \n",
    "        # Fully connected layers\n",
    "        x = F.relu(self.fc1(x))\n",
    "        x = F.relu(self.fc2(x))\n",
    "        \n",
    "        # No activation on final layer \n",
    "        return self.fc3(x)\n",
    "\n",
    "#-------------------------------------------------------"
   ]
  },
  {
   "attachments": {},
   "cell_type": "markdown",
   "id": "3248f8b9-64b2-4cf4-ab9f-bcc74c8076db",
   "metadata": {},
   "source": [
    "### Opdracht 7: CNN trainen\n",
    "\n",
    "Het trainen van een CNN is identiek aan het trainen van een fully connected (a.k.a. dense) netwerk."
   ]
  },
  {
   "cell_type": "code",
   "execution_count": null,
   "id": "0a64e93d-e9e2-49d3-b047-20afb4887f2a",
   "metadata": {
    "tags": []
   },
   "outputs": [],
   "source": [
    "# a. Ga voor jezelf na welke stappen een typisch trainingsproces bevat\n",
    "\n",
    "# b. Bekijk de blog post 'A simple CNN in Python' en zet de training op\n",
    "\n",
    "# c. Het voorbeeld bevat geen validatie tijdens de trainingsstap (epoch)\n",
    "\n",
    "#    - Bekijk het Notebook met de de postcode FastScan\n",
    "#      en bereid de training uit met validatie in de trainingsloop"
   ]
  },
  {
   "attachments": {},
   "cell_type": "markdown",
   "id": "e503bc56-46d6-4e15-8d91-d7784edc5e2b",
   "metadata": {},
   "source": [
    "### Opdracht 8: dropout toevoegen\n",
    "\n",
    "Om het netwerk effectiever te trainen wordt dropout toegepast.\n",
    "\n",
    "PyTorch maakt het toevoegen van dropout makkelijk."
   ]
  },
  {
   "cell_type": "code",
   "execution_count": null,
   "id": "f4d98c7a-3358-4937-8bc0-fd8b003121c9",
   "metadata": {
    "tags": []
   },
   "outputs": [],
   "source": [
    "# a. Bekijk het artikel Using Dropout Regularization in PyTorch Models (zie sources)\n",
    "\n",
    "# b. Pas nu dropout toe op een hidden layer van je model\n",
    "\n",
    "# c. Hertrain je model\n",
    "\n",
    "#    - Let er op dat je je model evalueert in eval() mode\n",
    "#    - Heeft de dropout invloed op de accuracy van je model?"
   ]
  },
  {
   "attachments": {},
   "cell_type": "markdown",
   "id": "f91aa1cc-60c9-481b-9d66-3ab359b7422a",
   "metadata": {},
   "source": [
    "### Reflectie\n",
    "\n",
    "- Wat gebeurt er als de dropout groot is (bijvoobeeld 0.9)?"
   ]
  }
 ],
 "metadata": {
  "kernelspec": {
   "display_name": "Python 3 (ipykernel)",
   "language": "python",
   "name": "python3"
  },
  "language_info": {
   "codemirror_mode": {
    "name": "ipython",
    "version": 3
   },
   "file_extension": ".py",
   "mimetype": "text/x-python",
   "name": "python",
   "nbconvert_exporter": "python",
   "pygments_lexer": "ipython3",
   "version": "3.11.2"
  }
 },
 "nbformat": 4,
 "nbformat_minor": 5
}
