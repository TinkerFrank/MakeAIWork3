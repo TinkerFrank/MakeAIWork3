{
 "cells": [
  {
   "cell_type": "code",
   "execution_count": 1,
   "metadata": {},
   "outputs": [],
   "source": [
    "import torch\n",
    "import torchvision\n",
    "import torchvision.transforms as transforms\n",
    "import numpy as np\n",
    "import matplotlib.pyplot as plt \n",
    "import pandas as pd \n",
    "%matplotlib inline\n",
    "path_data = './data/'"
   ]
  },
  {
   "cell_type": "code",
   "execution_count": 2,
   "metadata": {},
   "outputs": [
    {
     "name": "stdout",
     "output_type": "stream",
     "text": [
      "Files already downloaded and verified\n",
      "Files already downloaded and verified\n"
     ]
    }
   ],
   "source": [
    "#torchvision = utility to get common datasets\n",
    "train = torchvision.datasets.CIFAR10(root=path_data, train=True, download =True)\n",
    "test = torchvision.datasets.CIFAR10(root=path_data, train = False, download=True)"
   ]
  },
  {
   "cell_type": "code",
   "execution_count": 3,
   "metadata": {},
   "outputs": [
    {
     "data": {
      "text/plain": [
       "torchvision.datasets.cifar.CIFAR10"
      ]
     },
     "execution_count": 3,
     "metadata": {},
     "output_type": "execute_result"
    }
   ],
   "source": [
    "type(train)"
   ]
  },
  {
   "cell_type": "code",
   "execution_count": 4,
   "metadata": {},
   "outputs": [
    {
     "data": {
      "text/plain": [
       "{'airplane': 0,\n",
       " 'automobile': 1,\n",
       " 'bird': 2,\n",
       " 'cat': 3,\n",
       " 'deer': 4,\n",
       " 'dog': 5,\n",
       " 'frog': 6,\n",
       " 'horse': 7,\n",
       " 'ship': 8,\n",
       " 'truck': 9}"
      ]
     },
     "execution_count": 4,
     "metadata": {},
     "output_type": "execute_result"
    }
   ],
   "source": [
    "train.class_to_idx"
   ]
  },
  {
   "cell_type": "code",
   "execution_count": 5,
   "metadata": {},
   "outputs": [
    {
     "data": {
      "text/plain": [
       "(50000, 32, 32, 3)"
      ]
     },
     "execution_count": 5,
     "metadata": {},
     "output_type": "execute_result"
    }
   ],
   "source": [
    "#PIL image HxWxC 32x32x3 (0-255)\n",
    "train.data.shape\n"
   ]
  },
  {
   "cell_type": "code",
   "execution_count": 6,
   "metadata": {},
   "outputs": [
    {
     "data": {
      "text/plain": [
       "(32, 32, 3)"
      ]
     },
     "execution_count": 6,
     "metadata": {},
     "output_type": "execute_result"
    }
   ],
   "source": [
    "train.data[0].shape"
   ]
  },
  {
   "cell_type": "code",
   "execution_count": 7,
   "metadata": {},
   "outputs": [
    {
     "data": {
      "image/png": "[encoded data removed]",
      "text/plain": [
       "<Figure size 640x480 with 1 Axes>"
      ]
     },
     "metadata": {},
     "output_type": "display_data"
    }
   ],
   "source": [
    "#convert from data to image\n",
    "plt.imshow(train.data[1], interpolation='nearest')\n",
    "plt.show()"
   ]
  },
  {
   "cell_type": "code",
   "execution_count": 8,
   "metadata": {},
   "outputs": [
    {
     "name": "stdout",
     "output_type": "stream",
     "text": [
      "Compose(\n",
      "    ToTensor()\n",
      "    Normalize(mean=(0.5, 0.5, 0.5), std=(0.5, 0.5, 0.5))\n",
      ")\n",
      "\n",
      "######\n",
      "\n",
      "StandardTransform\n",
      "Transform: Compose(\n",
      "               ToTensor()\n",
      "               Normalize(mean=(0.5, 0.5, 0.5), std=(0.5, 0.5, 0.5))\n",
      "           )\n"
     ]
    }
   ],
   "source": [
    "#transform for faster processing and normalise to prevent oscillations (input-mean)/stdv\n",
    "#can be combined using composed transform\n",
    "cifar_transform = transforms.Compose([\n",
    "    transforms.ToTensor(), \n",
    "    transforms.Normalize((0.5,0.5,0.5),(0.5,0.5,0.5)) #transforms.ToTensor already rescales to 0-1, otherwise it would be (127.5,127.5,127.5),(some_std_here)\n",
    "])\n",
    "\n",
    "train.transform = cifar_transform\n",
    "test.transform = cifar_transform\n",
    "\n",
    "train.transforms = torchvision.datasets.vision.StandardTransform(cifar_transform)\n",
    "test.transforms = torchvision.datasets.vision.StandardTransform(cifar_transform)\n",
    "\n",
    "print(train.transform)  \n",
    "print('\\n######\\n')\n",
    "print(train.transforms)"
   ]
  },
  {
   "cell_type": "code",
   "execution_count": 9,
   "metadata": {},
   "outputs": [],
   "source": [
    "# two types of datasets in pytorch\n",
    "# map-style [Dataset Class] and iterable-style [IteableDataset Class], CIFAR10 is a map-style\n",
    "# DataLoader class combines both classes\n",
    "\n",
    "trainloader = torch.utils.data.DataLoader(train, batch_size=4, shuffle=False, num_workers=2)\n",
    "testloader = torch.utils.data.DataLoader(test, batch_size=4, shuffle=False) #no need to shuffle when evaluating\n",
    "# its Data L oader not Data l oader"
   ]
  },
  {
   "cell_type": "code",
   "execution_count": 10,
   "metadata": {},
   "outputs": [
    {
     "name": "stdout",
     "output_type": "stream",
     "text": [
      "tensor([[[ 0.2078, -0.0118, -0.1765,  ..., -0.2863, -0.3176, -0.3804],\n",
      "         [ 0.0980,  0.1373, -0.0196,  ..., -0.2471, -0.3961, -0.4431],\n",
      "         [ 0.0980,  0.0902, -0.0980,  ..., -0.3804, -0.4667, -0.4745],\n",
      "         ...,\n",
      "         [ 0.3725,  0.2235,  0.2078,  ..., -0.6706, -0.5216, -0.2706],\n",
      "         [ 0.2941,  0.2235,  0.2471,  ..., -0.1922, -0.0353,  0.0275],\n",
      "         [ 0.2784,  0.2392,  0.2784,  ...,  0.1216,  0.1216,  0.1216]],\n",
      "\n",
      "        [[ 0.3882,  0.0745, -0.1843,  ..., -0.2549, -0.2941, -0.3647],\n",
      "         [ 0.2549,  0.2000, -0.0196,  ..., -0.2235, -0.3725, -0.4275],\n",
      "         [ 0.2157,  0.1451, -0.0980,  ..., -0.3569, -0.4510, -0.4588],\n",
      "         ...,\n",
      "         [ 0.3098,  0.2078,  0.2549,  ..., -0.7333, -0.5843, -0.3490],\n",
      "         [ 0.2078,  0.1922,  0.2627,  ..., -0.2706, -0.1059, -0.0510],\n",
      "         [ 0.1608,  0.1608,  0.2235,  ...,  0.0431,  0.0510,  0.0431]],\n",
      "\n",
      "        [[ 0.4667,  0.0667, -0.2549,  ..., -0.4431, -0.4431, -0.4510],\n",
      "         [ 0.3255,  0.2078, -0.0745,  ..., -0.3882, -0.5137, -0.5216],\n",
      "         [ 0.2863,  0.1686, -0.1216,  ..., -0.4980, -0.5686, -0.5686],\n",
      "         ...,\n",
      "         [ 0.3020,  0.2549,  0.3333,  ..., -0.7176, -0.5529, -0.2863],\n",
      "         [ 0.0039,  0.0196,  0.1137,  ..., -0.2471, -0.0588,  0.0275],\n",
      "         [-0.0588, -0.0431,  0.0431,  ...,  0.0902,  0.1137,  0.1294]]])\n"
     ]
    }
   ],
   "source": [
    "#look at a batch in raw form\n",
    "train_iter = iter(trainloader)\n",
    "#images, labels = train_iter.next() #deprecated syntax since pytorch 1.13\n",
    "images, labels = next(train_iter)\n",
    "print(images[1])"
   ]
  },
  {
   "cell_type": "code",
   "execution_count": 11,
   "metadata": {},
   "outputs": [
    {
     "data": {
      "text/plain": [
       "torch.Size([3, 32, 32])"
      ]
     },
     "execution_count": 11,
     "metadata": {},
     "output_type": "execute_result"
    }
   ],
   "source": [
    "images[1].shape"
   ]
  },
  {
   "cell_type": "code",
   "execution_count": 12,
   "metadata": {},
   "outputs": [
    {
     "name": "stdout",
     "output_type": "stream",
     "text": [
      "tensor(9)\n"
     ]
    }
   ],
   "source": [
    "print(labels[1])\n",
    "#idx 9 = truck"
   ]
  },
  {
   "cell_type": "code",
   "execution_count": 13,
   "metadata": {},
   "outputs": [
    {
     "name": "stdout",
     "output_type": "stream",
     "text": [
      " frog truck truck  deer\n"
     ]
    },
    {
     "data": {
      "image/png": "[encoded data removed]",
      "text/plain": [
       "<Figure size 640x480 with 1 Axes>"
      ]
     },
     "metadata": {},
     "output_type": "display_data"
    }
   ],
   "source": [
    "# plot whats in the image tensor (after normalising)\n",
    "# images is an tensor array B(atch size) x C(hannels) x H x W \n",
    "# currently the values are between -1 and 1 and imshow needs between 0 and 1\n",
    "# torchvision.utils.make_grid() automatically makes a film-strip style image\n",
    "\n",
    "def plot_images(images, labels):\n",
    "    img_grid = torchvision.utils.make_grid(images, nrow=4, normalize=True)\n",
    "    #normalize true shifts -1,1 to 0,1\n",
    "    np_img = img_grid.numpy().transpose(1,2,0) #reshape axes to imshow compatible format\n",
    "    plt.imshow(np_img)\n",
    "\n",
    "d_class2idx = train.class_to_idx\n",
    "d_idx2class = dict(zip(d_class2idx.values(),d_class2idx.keys()))\n",
    "\n",
    "plot_images(images,labels)\n",
    "print(' '.join('%5s' % d_idx2class[int(labels[j])]for j in range(len(images))))"
   ]
  },
  {
   "cell_type": "code",
   "execution_count": 14,
   "metadata": {},
   "outputs": [
    {
     "data": {
      "image/png": "[encoded data removed]",
      "text/plain": [
       "<Figure size 640x480 with 1 Axes>"
      ]
     },
     "metadata": {},
     "output_type": "display_data"
    }
   ],
   "source": [
    "plot_images(images[1],labels[1])"
   ]
  },
  {
   "cell_type": "code",
   "execution_count": 15,
   "metadata": {},
   "outputs": [],
   "source": [
    "# was expecting Truck not Dog but Shuffle = True in dataloader\n",
    "# setting it to False to see effect of normalisation, seems no equal"
   ]
  },
  {
   "cell_type": "code",
   "execution_count": 16,
   "metadata": {},
   "outputs": [],
   "source": [
    "#Making the CNN\n",
    "\n",
    "import torch.nn as nn\n",
    "import torch.nn.functional as F\n",
    "\n",
    "\n",
    "# defining a class inheriting from nn.Module and has 2 methods __init__ and forward()\n",
    "# input to a nn.Conv2d layer is a shape (nSamples x H x W)\n",
    "###################################################################\n",
    "# first type of layers is a nn.Conv2D() with 3 parameters:\n",
    "#   1. in_channels: number of channels, 3 in this case (RGB)\n",
    "#   2. out_channels: number of convolutional filters/features you would like\n",
    "#   3. kernel_size: size of the square filter: 3 = 3x3, 2 = 2x2 etc.\n",
    "#   4. Other parameters: stride, padding, dilation etc.\n",
    "####################################################################\n",
    "# second type of layer is the nn.MaxPool2d()\n",
    "# with compulsary parameter kernel_size (poolwindow size)\n",
    "####################################################################\n",
    "# third a simple linear layer in the form of y=WX+b\n",
    "# followd by a ReLU activations in the network F.relu\n",
    "\n",
    "class Net(nn.Module):\n",
    "    def __init__(self):\n",
    "        super().__init__()\n",
    "        self.conv_1 = nn.Conv2d(3,6,5) #ouputs 6 channels, kernel is 5x5\n",
    "        self.pool = nn.MaxPool2d(2,2) # define once, use multiple times\n",
    "        self.conv_2 = nn.Conv2d(6,16,5)\n",
    "        self.fc1 = nn.Linear(16*5*5,120) # 16 channels of 5x5 size\n",
    "        self.fc2 = nn.Linear(120,84)\n",
    "        self.fc3 = nn.Linear(84,10) # 10 classes as output\n",
    "\n",
    "    def forward(self,x):\n",
    "        x = self.pool(F.relu(self.conv_1(x)))\n",
    "        x = self.pool(F.relu(self.conv_2(x)))\n",
    "        x = x.view(-1, 16*5*5) #flatten: np.reshape = new object, view = reference\n",
    "        x = F.relu(self.fc1(x))\n",
    "        x = F.relu(self.fc2(x))\n",
    "        x = self.fc3(x) #no activation on final layer because we are gonna use cross entropy which expects raw logits as the final layer\n",
    "        return x\n"
   ]
  },
  {
   "cell_type": "code",
   "execution_count": 17,
   "metadata": {},
   "outputs": [],
   "source": [
    "class NetSequential(nn.Module):\n",
    "    def __init__(self):\n",
    "        super().__init__()\n",
    "        self.mynn = nn.Sequential(\n",
    "\n",
    "        nn.Conv2d(3,6,5), #ouputs 6 channels, kernel is 5x5\n",
    "        nn.ReLU(),\n",
    "        nn.MaxPool2d(2,2), \n",
    "\n",
    "        nn.Conv2d(6,16,5),\n",
    "        nn.ReLU(),\n",
    "        nn.MaxPool2d(2,2),\n",
    "\n",
    "        nn.Flatten(),\n",
    "        nn.Linear(16*5*5,120), # 16 channels of 5x5 size\n",
    "        nn.ReLU(),\n",
    "        nn.Linear(120,84),\n",
    "        nn.ReLU(),\n",
    "        nn.Linear(84,10) # 10 classes as output\n",
    "\n",
    "        )\n",
    "\n",
    "    def forward(self, x):\n",
    "        logits = self.mynn(x)\n",
    "        return logits  #\"logits\" refers to unnormalized log-probabilities\n"
   ]
  },
  {
   "cell_type": "code",
   "execution_count": 18,
   "metadata": {},
   "outputs": [],
   "source": [
    "net =  Net()"
   ]
  },
  {
   "cell_type": "code",
   "execution_count": 19,
   "metadata": {},
   "outputs": [],
   "source": [
    "# Loss and optimization\n",
    "import torch.optim as optim\n",
    "\n",
    "CrossEntropyLossCriterion = nn.CrossEntropyLoss()\n",
    "optimizer = optim.SGD(net.parameters(),lr=0.001,momentum=0.9)"
   ]
  },
  {
   "cell_type": "code",
   "execution_count": 20,
   "metadata": {},
   "outputs": [
    {
     "name": "stdout",
     "output_type": "stream",
     "text": [
      "0 1000 2.286863529920578\n",
      "0 2000 2.1022479459047316\n",
      "0 3000 1.9085786900520325\n",
      "0 4000 1.8264124851226806\n",
      "0 5000 1.727747388601303\n",
      "0 6000 1.6458679330945014\n",
      "0 7000 1.5874496477544309\n",
      "0 8000 1.5591961473822593\n",
      "0 9000 1.5827340356707573\n",
      "0 10000 1.5204158633947373\n",
      "0 11000 1.513840406268835\n",
      "0 12000 1.482185651808977\n",
      "1 1000 2.170902877241373\n",
      "1 2000 1.4222042824327945\n",
      "1 3000 1.3930009371042251\n",
      "1 4000 1.4194246420115233\n",
      "1 5000 1.362610607802868\n",
      "1 6000 1.3421179133504628\n",
      "1 7000 1.3199695581644773\n",
      "1 8000 1.290718348413706\n",
      "1 9000 1.3541085277795792\n",
      "1 10000 1.3083655674234032\n",
      "1 11000 1.3037078894674778\n",
      "1 12000 1.2759196286946535\n"
     ]
    }
   ],
   "source": [
    "# Train function\n",
    "running_loss = 0\n",
    "printfreq = 1000\n",
    "graph_loss = []\n",
    "for epoch in range(2):\n",
    "    for idx, data in enumerate(trainloader):\n",
    "        inputs, labels = data\n",
    "        optimizer.zero_grad()\n",
    "\n",
    "        #forward pass\n",
    "        outputs = net.forward(inputs)\n",
    "\n",
    "        loss = CrossEntropyLossCriterion(outputs, labels)\n",
    "        loss.backward()\n",
    "\n",
    "\n",
    "        optimizer.step()\n",
    "\n",
    "        running_loss += loss.item()\n",
    "\n",
    "        if idx % printfreq == printfreq-1:  \n",
    "            print(epoch, idx+1, running_loss / printfreq)\n",
    "            graph_loss.append(running_loss)\n",
    "            running_loss = 0 "
   ]
  },
  {
   "cell_type": "code",
   "execution_count": 23,
   "metadata": {},
   "outputs": [
    {
     "data": {
      "image/png": "[encoded data removed]",
      "text/plain": [
       "<Figure size 640x480 with 1 Axes>"
      ]
     },
     "metadata": {},
     "output_type": "display_data"
    }
   ],
   "source": [
    "\n",
    "plt.plot( graph_loss, 'red')\n",
    "plt.show()"
   ]
  }
 ],
 "metadata": {
  "kernelspec": {
   "display_name": "Python 3",
   "language": "python",
   "name": "python3"
  },
  "language_info": {
   "codemirror_mode": {
    "name": "ipython",
    "version": 3
   },
   "file_extension": ".py",
   "mimetype": "text/x-python",
   "name": "python",
   "nbconvert_exporter": "python",
   "pygments_lexer": "ipython3",
   "version": "3.11.2"
  },
  "orig_nbformat": 4
 },
 "nbformat": 4,
 "nbformat_minor": 2
}
