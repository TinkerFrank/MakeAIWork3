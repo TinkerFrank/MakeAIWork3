{
 "cells": [
  {
   "attachments": {},
   "cell_type": "markdown",
   "id": "4bdbdeaa-79d8-416d-91b6-0566f3f2eaf4",
   "metadata": {
    "tags": []
   },
   "source": [
    "# Statistische kwaliteitscontrole"
   ]
  },
  {
   "attachments": {},
   "cell_type": "markdown",
   "id": "64960ef1-4dce-4f48-b69f-fc48178fdc2c",
   "metadata": {},
   "source": [
    "![quality](quality.jpg)"
   ]
  },
  {
   "attachments": {},
   "cell_type": "markdown",
   "id": "d1af3142-d8be-4a22-a21b-d058fae53330",
   "metadata": {},
   "source": [
    "## Situatie\n",
    "\n",
    "De firma Glow BV produceert lampen.\n",
    "\n",
    "- Bekend is dat **2%** van de productie defecten bevat\n",
    "- De dagproductie bestaat uit **75.000 lampen**"
   ]
  },
  {
   "attachments": {},
   "cell_type": "markdown",
   "id": "3ad208d3-066d-4c7e-a4c7-8456202b308d",
   "metadata": {},
   "source": [
    "## Opdracht\n",
    "\n",
    "- Onderzoek hoeveel kapotte lampen je tegenkomt als je **25 lampen** uit de totale dagproductie inspecteert\n",
    "- Voer de inspectie **10 maal** uit\n",
    "- Maak een kort overzicht van je bevindingen (in Excel, met MatplotLib of met print-statements)\n",
    "\n",
    "Begin met de analyse hieronder."
   ]
  },
  {
   "cell_type": "code",
   "execution_count": 2,
   "id": "bfd48f2d",
   "metadata": {},
   "outputs": [],
   "source": [
    "import random\n",
    "# random.sample() #Returns a given sample of a sequence\n",
    "# random.shuffle() #Takes a sequence and returns the sequence in a random order"
   ]
  },
  {
   "cell_type": "code",
   "execution_count": 3,
   "id": "397f1676-3852-41ea-b367-77520ef2e2c2",
   "metadata": {},
   "outputs": [
    {
     "name": "stdout",
     "output_type": "stream",
     "text": [
      "73500\n",
      "1500\n",
      "75000\n"
     ]
    }
   ],
   "source": [
    "# 1. Genereer een lijst met functionele lampen (hoeveel?)\n",
    "\n",
    "daily_output = 75000\n",
    "defect_rate = 0.02\n",
    "\n",
    "functional_lamps = [0] * int((1-defect_rate)*daily_output)\n",
    "print(len(functional_lamps))\n",
    "\n",
    "\n",
    "# 2. Vul de lijst aan met defecte lampen (hoeveel?)\n",
    "defect_lamps = [1]*int(defect_rate*daily_output)\n",
    "print(len(defect_lamps))\n",
    "\n",
    "total_lamps = functional_lamps + defect_lamps\n",
    "print(len(total_lamps))"
   ]
  },
  {
   "cell_type": "code",
   "execution_count": 4,
   "id": "c4eb3a24",
   "metadata": {},
   "outputs": [],
   "source": [
    "def sample(count):\n",
    "    mysample =  random.sample(total_lamps,count)\n",
    "    return mysample"
   ]
  },
  {
   "cell_type": "code",
   "execution_count": 5,
   "id": "6c351cc4",
   "metadata": {},
   "outputs": [
    {
     "name": "stdout",
     "output_type": "stream",
     "text": [
      "0.0154\n"
     ]
    }
   ],
   "source": [
    "epochs = 1000\n",
    "sample_size = 25\n",
    "sample_results = []\n",
    "\n",
    "# sample with replacement\n",
    "for i in range(epochs): \n",
    "\n",
    "    defects_detected = sample(sample_size).count(1)\n",
    "    sample_results.append(defects_detected)\n",
    "\n",
    "total_sample_defects = sum(i > 0 for i in sample_results)\n",
    "print(total_sample_defects/(epochs*sample_size))"
   ]
  },
  {
   "cell_type": "code",
   "execution_count": null,
   "id": "17f7e55b",
   "metadata": {},
   "outputs": [],
   "source": []
  },
  {
   "cell_type": "code",
   "execution_count": 6,
   "id": "6b25811c",
   "metadata": {},
   "outputs": [
    {
     "data": {
      "text/plain": [
       "[<matplotlib.axis.XTick at 0x1adeb07d590>,\n",
       " <matplotlib.axis.XTick at 0x1adeb077610>,\n",
       " <matplotlib.axis.XTick at 0x1adeacf31d0>,\n",
       " <matplotlib.axis.XTick at 0x1adeb0e5450>,\n",
       " <matplotlib.axis.XTick at 0x1adeb0e75d0>]"
      ]
     },
     "execution_count": 6,
     "metadata": {},
     "output_type": "execute_result"
    },
    {
     "data": {
      "image/png": "[encoded data removed]",
      "text/plain": [
       "<Figure size 640x480 with 1 Axes>"
      ]
     },
     "metadata": {},
     "output_type": "display_data"
    }
   ],
   "source": [
    "import matplotlib.pyplot as plt\n",
    "import numpy as np\n",
    "\n",
    "# the trick is to set up the bins centered on the integers, i.e.\n",
    "# -0.5, 0.5, 1,5, 2.5, ... up to max(data) + 1.5. Then you substract -0.5 to\n",
    "# eliminate the extra bin at the end.\n",
    "bins = np.arange(0, 3 + 1.5) - 0.5\n",
    "# then you plot away\n",
    "fig, ax = plt.subplots()\n",
    "_ = ax.hist(sample_results, bins)\n",
    "ax.set_xticks(bins + 0.5)"
   ]
  },
  {
   "cell_type": "code",
   "execution_count": 7,
   "id": "1a76bce3",
   "metadata": {},
   "outputs": [
    {
     "name": "stdout",
     "output_type": "stream",
     "text": [
      "[4, 3]\n"
     ]
    }
   ],
   "source": [
    "mylist = [1,2,3,4,5,6]\n",
    "mysample = random.sample(mylist,2)\n",
    "print(mysample)"
   ]
  },
  {
   "cell_type": "code",
   "execution_count": 8,
   "id": "1dbe0d67",
   "metadata": {},
   "outputs": [
    {
     "name": "stdout",
     "output_type": "stream",
     "text": [
      "3\n"
     ]
    }
   ],
   "source": [
    "inmylist = mylist.index(mysample[0])\n",
    "print(inmylist)"
   ]
  },
  {
   "cell_type": "code",
   "execution_count": 9,
   "id": "f9a6a0e0",
   "metadata": {},
   "outputs": [
    {
     "name": "stdout",
     "output_type": "stream",
     "text": [
      "[3, 2]\n"
     ]
    }
   ],
   "source": [
    "inmylist = []\n",
    "for item in range(len(mysample)):\n",
    "    inmylist.append(mylist.index(mysample[item]))\n",
    "\n",
    "print(inmylist)"
   ]
  },
  {
   "cell_type": "code",
   "execution_count": 10,
   "id": "3faa102f",
   "metadata": {},
   "outputs": [],
   "source": [
    "def remove_items_by_index(lst, indices):\n",
    "    #indices.sort(reverse=True)\n",
    "    \n",
    "    for index in indices:\n",
    "        lst.pop(index)\n",
    "    \n",
    "    return lst\n"
   ]
  },
  {
   "cell_type": "code",
   "execution_count": 11,
   "id": "90a12f1d",
   "metadata": {},
   "outputs": [
    {
     "name": "stdout",
     "output_type": "stream",
     "text": [
      "[1, 2, 5, 6]\n"
     ]
    }
   ],
   "source": [
    "my_new_list = remove_items_by_index(mylist, inmylist)\n",
    "print(my_new_list)"
   ]
  },
  {
   "cell_type": "code",
   "execution_count": 12,
   "id": "58abd339",
   "metadata": {},
   "outputs": [],
   "source": [
    "# sample without replacement\n",
    "batch = total_lamps\n",
    "\n",
    "def sample_noreplacement(count):\n",
    "    inmylist = []\n",
    "    mysample = random.sample(batch,count)\n",
    "\n",
    "    for item in range(len(mysample)):\n",
    "        inmylist.append(mysample.index(mysample[item]))\n",
    "        \n",
    "    for index in inmylist:\n",
    "        batch.pop(index)\n",
    "\n",
    "    return mysample\n"
   ]
  },
  {
   "cell_type": "code",
   "execution_count": 13,
   "id": "fddeffd5",
   "metadata": {},
   "outputs": [],
   "source": [
    "epochs = 1000\n",
    "sample_size = 25\n",
    "sample_results = []\n",
    "\n",
    "# sample with replacement\n",
    "for i in range(epochs): \n",
    "\n",
    "    defects_detected = sample_noreplacement(sample_size).count(1)\n",
    "    sample_results.append(defects_detected)"
   ]
  },
  {
   "cell_type": "code",
   "execution_count": 14,
   "id": "b8721b0f",
   "metadata": {},
   "outputs": [
    {
     "name": "stdout",
     "output_type": "stream",
     "text": [
      "0.01844\n"
     ]
    }
   ],
   "source": [
    "total_sample_defects = sum(i > 0 for i in sample_results)\n",
    "print(total_sample_defects/(epochs*sample_size))"
   ]
  },
  {
   "cell_type": "code",
   "execution_count": 15,
   "id": "9142f424",
   "metadata": {},
   "outputs": [
    {
     "data": {
      "text/plain": [
       "[<matplotlib.axis.XTick at 0x1adeb0c0d50>,\n",
       " <matplotlib.axis.XTick at 0x1adeb0c1dd0>,\n",
       " <matplotlib.axis.XTick at 0x1adc3692bd0>,\n",
       " <matplotlib.axis.XTick at 0x1aded184a90>,\n",
       " <matplotlib.axis.XTick at 0x1aded186fd0>]"
      ]
     },
     "execution_count": 15,
     "metadata": {},
     "output_type": "execute_result"
    },
    {
     "data": {
      "image/png": "[encoded data removed]",
      "text/plain": [
       "<Figure size 640x480 with 1 Axes>"
      ]
     },
     "metadata": {},
     "output_type": "display_data"
    }
   ],
   "source": [
    "bins = np.arange(0, 3 + 1.5) - 0.5\n",
    "# then you plot away\n",
    "fig, ax = plt.subplots()\n",
    "_ = ax.hist(sample_results, bins)\n",
    "ax.set_xticks(bins + 0.5)"
   ]
  },
  {
   "attachments": {},
   "cell_type": "markdown",
   "id": "5000db0d-561e-4cd8-9870-201de800bc5a",
   "metadata": {},
   "source": [
    "## Stap 4: reflecteren\n",
    "\n",
    "1. (a) Komt het gemiddelde van je inspectie overeen met de daadwerkelijke productiefout?\n",
    "\n",
    "   (b) Zo nee: hoeveel inspecties moet je dan doen om in de buurt te komen van de 2%?\n",
    "\n",
    "2. (a) Is het verstandig om kosten te drukken en maar 5 inspecties uit te voeren?\n",
    "\n",
    "   (b) Of per inspectie slechts 15 lampen te onderzoeken?\n",
    "\n",
    "3. (a) Maakt het uit of je de lampen na inspectie terugstopt in de batch?\n",
    "\n",
    "   (b) Kun je dit aantonen met je simulatie?"
   ]
  },
  {
   "cell_type": "code",
   "execution_count": 26,
   "id": "02ca0d82-1022-497f-b570-9e6126f95e4f",
   "metadata": {
    "tags": []
   },
   "outputs": [
    {
     "ename": "ValueError",
     "evalue": "Sample larger than population or is negative",
     "output_type": "error",
     "traceback": [
      "\u001b[1;31m---------------------------------------------------------------------------\u001b[0m",
      "\u001b[1;31mValueError\u001b[0m                                Traceback (most recent call last)",
      "Cell \u001b[1;32mIn[26], line 12\u001b[0m\n\u001b[0;32m      9\u001b[0m \u001b[39m# sample with replacement\u001b[39;00m\n\u001b[0;32m     10\u001b[0m \u001b[39mfor\u001b[39;00m i \u001b[39min\u001b[39;00m \u001b[39mrange\u001b[39m(inspections): \n\u001b[1;32m---> 12\u001b[0m     defects_detected \u001b[39m=\u001b[39m sample(sample_size)\u001b[39m.\u001b[39mcount(\u001b[39m1\u001b[39m)\n\u001b[0;32m     13\u001b[0m     sample_results\u001b[39m.\u001b[39mappend(defects_detected)\n\u001b[0;32m     15\u001b[0m total_sample_defects \u001b[39m=\u001b[39m \u001b[39msum\u001b[39m(i \u001b[39m>\u001b[39m \u001b[39m0\u001b[39m \u001b[39mfor\u001b[39;00m i \u001b[39min\u001b[39;00m sample_results)\n",
      "Cell \u001b[1;32mIn[4], line 2\u001b[0m, in \u001b[0;36msample\u001b[1;34m(count)\u001b[0m\n\u001b[0;32m      1\u001b[0m \u001b[39mdef\u001b[39;00m \u001b[39msample\u001b[39m(count):\n\u001b[1;32m----> 2\u001b[0m     mysample \u001b[39m=\u001b[39m  random\u001b[39m.\u001b[39;49msample(total_lamps,count)\n\u001b[0;32m      3\u001b[0m     \u001b[39mreturn\u001b[39;00m mysample\n",
      "File \u001b[1;32md:\\0_Program_Files\\Python3.11\\Lib\\random.py:456\u001b[0m, in \u001b[0;36mRandom.sample\u001b[1;34m(self, population, k, counts)\u001b[0m\n\u001b[0;32m    454\u001b[0m randbelow \u001b[39m=\u001b[39m \u001b[39mself\u001b[39m\u001b[39m.\u001b[39m_randbelow\n\u001b[0;32m    455\u001b[0m \u001b[39mif\u001b[39;00m \u001b[39mnot\u001b[39;00m \u001b[39m0\u001b[39m \u001b[39m<\u001b[39m\u001b[39m=\u001b[39m k \u001b[39m<\u001b[39m\u001b[39m=\u001b[39m n:\n\u001b[1;32m--> 456\u001b[0m     \u001b[39mraise\u001b[39;00m \u001b[39mValueError\u001b[39;00m(\u001b[39m\"\u001b[39m\u001b[39mSample larger than population or is negative\u001b[39m\u001b[39m\"\u001b[39m)\n\u001b[0;32m    457\u001b[0m result \u001b[39m=\u001b[39m [\u001b[39mNone\u001b[39;00m] \u001b[39m*\u001b[39m k\n\u001b[0;32m    458\u001b[0m setsize \u001b[39m=\u001b[39m \u001b[39m21\u001b[39m        \u001b[39m# size of a small set minus size of an empty list\u001b[39;00m\n",
      "\u001b[1;31mValueError\u001b[0m: Sample larger than population or is negative"
     ]
    }
   ],
   "source": [
    "inspection_size_results = []\n",
    "inspectionmaxsize = 10\n",
    "\n",
    "for q in range(1,inspectionmaxsize):\n",
    "    inspections = q\n",
    "    sample_size = 25\n",
    "    sample_results = []\n",
    "\n",
    "    # sample with replacement\n",
    "    for i in range(inspections): \n",
    "\n",
    "        defects_detected = sample(sample_size).count(1)\n",
    "        sample_results.append(defects_detected)\n",
    "\n",
    "    total_sample_defects = sum(i > 0 for i in sample_results)\n",
    "    inspection_size_results.append(total_sample_defects/(q*sample_size))\n"
   ]
  },
  {
   "cell_type": "code",
   "execution_count": 18,
   "id": "af7c8004",
   "metadata": {},
   "outputs": [
    {
     "name": "stdout",
     "output_type": "stream",
     "text": [
      "[0.01, 0.01, 0.01, 0.01, 0.01, 0.01, 0.01, 0.01, 0.008888888888888889, 0.009, 0.01, 0.01, 0.009230769230769232, 0.01, 0.01, 0.01, 0.01, 0.009444444444444445, 0.01, 0.009, 0.01, 0.01, 0.009565217391304347, 0.009166666666666667, 0.01, 0.01, 0.009259259259259259, 0.008928571428571428, 0.009310344827586206, 0.009666666666666667, 0.00967741935483871, 0.00875, 0.009696969696969697, 0.009411764705882352, 0.009428571428571429, 0.009166666666666667, 0.01, 0.009473684210526316, 0.01, 0.0095, 0.00951219512195122, 0.009761904761904762, 0.009302325581395349, 0.00909090909090909, 0.009777777777777778, 0.008695652173913044, 0.009148936170212766, 0.009166666666666667, 0.008775510204081632, 0.009, 0.009607843137254901, 0.009807692307692307, 0.009811320754716982, 0.009444444444444445, 0.01, 0.009821428571428571, 0.01, 0.009827586206896551, 0.009322033898305085, 0.009666666666666667, 0.009180327868852459, 0.00935483870967742, 0.009841269841269842, 0.00921875, 0.008923076923076922, 0.009545454545454546, 0.009701492537313432, 0.009411764705882352, 0.009565217391304347, 0.009857142857142858, 0.009577464788732394, 0.009722222222222222, 0.009452054794520548, 0.00972972972972973, 0.009466666666666667, 0.009473684210526316, 0.00948051948051948, 0.009615384615384616, 0.009367088607594937, 0.0095, 0.009753086419753086, 0.00975609756097561, 0.009397590361445784, 0.009880952380952381, 0.00988235294117647, 0.009651162790697674, 0.009310344827586206, 0.009659090909090909, 0.009775280898876405, 0.009222222222222222, 0.009120879120879121, 0.00967391304347826, 0.00935483870967742, 0.009468085106382978, 0.00968421052631579, 0.009479166666666667, 0.009381443298969071, 0.009489795918367346, 0.009898989898989899, 0.0096, 0.009207920792079207, 0.008627450980392156, 0.009320388349514564, 0.00951923076923077, 0.009619047619047619, 0.009433962264150943, 0.009813084112149532, 0.009259259259259259, 0.00963302752293578, 0.009272727272727273, 0.00963963963963964, 0.009642857142857142, 0.009380530973451328, 0.009649122807017544, 0.009565217391304347, 0.009568965517241379, 0.009401709401709401, 0.009576271186440678, 0.009747899159663866, 0.009583333333333333, 0.009421487603305785, 0.009672131147540983, 0.009674796747967479, 0.009274193548387096, 0.00944, 0.009682539682539683, 0.009370078740157481, 0.00984375, 0.00945736434108527, 0.009153846153846153, 0.008931297709923664, 0.009696969696969697, 0.009398496240601503, 0.00955223880597015, 0.009851851851851851, 0.009558823529411765, 0.009708029197080291, 0.009565217391304347, 0.009712230215827337, 0.009714285714285713, 0.009361702127659575, 0.008943661971830986, 0.00944055944055944, 0.009722222222222222, 0.009586206896551723, 0.009726027397260273, 0.009387755102040816, 0.009594594594594594, 0.009530201342281878, 0.0096, 0.009403973509933775, 0.009276315789473685, 0.009542483660130718, 0.009545454545454546, 0.009419354838709678, 0.009743589743589744, 0.009426751592356689, 0.009683544303797469, 0.009433962264150943, 0.009625, 0.009627329192546583, 0.009814814814814814, 0.009386503067484663, 0.009695121951219512, 0.009757575757575758, 0.009518072289156626, 0.00940119760479042, 0.009583333333333333, 0.009230769230769232, 0.009647058823529411, 0.0095906432748538, 0.009534883720930233, 0.009826589595375723, 0.009482758620689655, 0.009542857142857143, 0.009204545454545455, 0.0096045197740113, 0.009606741573033708, 0.009273743016759777, 0.009444444444444445, 0.009502762430939227, 0.009175824175824175, 0.009398907103825137, 0.009565217391304347, 0.00972972972972973, 0.00946236559139785, 0.009572192513368985, 0.00973404255319149, 0.009312169312169312, 0.009578947368421053, 0.009581151832460734, 0.009739583333333333, 0.009430051813471502, 0.00979381443298969, 0.009692307692307693, 0.009387755102040816, 0.009644670050761422, 0.009747474747474748, 0.009698492462311558, 0.00975, 0.009502487562189054, 0.009702970297029703, 0.009655172413793104, 0.00980392156862745, 0.009414634146341463, 0.00912621359223301, 0.00961352657004831, 0.009615384615384616, 0.009760765550239234, 0.009619047619047619, 0.009478672985781991, 0.009858490566037735, 0.009577464788732394, 0.009532710280373832, 0.009627906976744186, 0.009398148148148149, 0.009539170506912442, 0.009357798165137614, 0.009497716894977169, 0.009363636363636364, 0.009502262443438913, 0.009594594594594594, 0.009372197309417041, 0.009464285714285715, 0.00968888888888889, 0.009601769911504425, 0.009647577092511014, 0.009298245614035089, 0.009563318777292577, 0.009608695652173913, 0.009437229437229437, 0.009655172413793104, 0.009527896995708154, 0.009743589743589744, 0.009574468085106383, 0.009449152542372882, 0.00949367088607595, 0.009663865546218488, 0.009539748953974895, 0.009791666666666667, 0.00941908713692946, 0.009214876033057852, 0.009711934156378601, 0.009467213114754099, 0.00963265306122449, 0.009268292682926829, 0.00951417004048583, 0.00935483870967742, 0.009558232931726907, 0.00948, 0.009442231075697211, 0.009682539682539683, 0.009486166007905139, 0.009448818897637795, 0.009372549019607844, 0.0096484375, 0.009066147859922179, 0.00937984496124031, 0.009227799227799227, 0.009576923076923077, 0.00946360153256705, 0.009656488549618321, 0.009391634980988594, 0.009583333333333333, 0.009547169811320755, 0.009586466165413534, 0.009662921348314606, 0.009477611940298508, 0.00933085501858736, 0.009481481481481481, 0.00959409594095941, 0.00926470588235294, 0.009597069597069597, 0.009708029197080291, 0.009454545454545455, 0.009565217391304347, 0.009530685920577618, 0.009496402877697842, 0.00946236559139785, 0.009428571428571429, 0.009395017793594307, 0.009680851063829788, 0.009399293286219081, 0.009577464788732394, 0.009473684210526316, 0.009370629370629371, 0.009721254355400697, 0.009548611111111112, 0.009826989619377162, 0.009586206896551723, 0.009621993127147767, 0.009657534246575342, 0.009453924914675768, 0.009523809523809525, 0.009457627118644068, 0.009594594594594594, 0.009696969696969697, 0.009664429530201342, 0.0094314381270903, 0.009533333333333333, 0.009800664451827243, 0.009536423841059603, 0.009405940594059406, 0.009473684210526316, 0.00957377049180328, 0.00957516339869281, 0.009315960912052118, 0.009642857142857142, 0.009320388349514564, 0.009645161290322581, 0.009228295819935691, 0.009743589743589744, 0.009552715654952077, 0.00945859872611465, 0.009396825396825396, 0.009651898734177215, 0.009621451104100946, 0.009433962264150943, 0.009373040752351097, 0.00934375, 0.009439252336448599, 0.00968944099378882, 0.00956656346749226, 0.009475308641975308, 0.009661538461538461, 0.009570552147239264, 0.009480122324159021, 0.009542682926829268, 0.009574468085106383, 0.009606060606060606, 0.009425981873111782, 0.009698795180722891, 0.00957957957957958, 0.009550898203592815, 0.009522388059701492, 0.009404761904761905, 0.009465875370919882, 0.009674556213017752, 0.009410029498525074, 0.00961764705882353, 0.009501466275659825, 0.009532163742690059, 0.009387755102040816, 0.00944767441860465, 0.009681159420289855, 0.009450867052023122, 0.009798270893371758, 0.009396551724137931, 0.00977077363896848, 0.0094, 0.009658119658119657, 0.009602272727272727, 0.009461756373937678, 0.009491525423728813, 0.009380281690140845, 0.009578651685393258, 0.009215686274509804, 0.00958100558659218, 0.009637883008356546, 0.00963888888888889, 0.009445983379501385, 0.009751381215469613, 0.009669421487603306, 0.009478021978021977, 0.00947945205479452, 0.009480874316939891, 0.009482288828337874, 0.00953804347826087, 0.00962059620596206, 0.00972972972972973, 0.009487870619946092, 0.009381720430107527, 0.009597855227882037, 0.00946524064171123, 0.00968, 0.009680851063829788, 0.009575596816976128, 0.00955026455026455, 0.0095778364116095, 0.009763157894736842, 0.009291338582677165, 0.009554973821989528, 0.009530026109660574, 0.009635416666666667, 0.00961038961038961, 0.00955958549222798, 0.00950904392764858, 0.00961340206185567, 0.009485861182519281, 0.009435897435897437, 0.009437340153452685, 0.009642857142857142, 0.009592875318066157, 0.00967005076142132, 0.009569620253164556, 0.009545454545454546, 0.00942065491183879, 0.009472361809045227, 0.009674185463659148, 0.00965, 0.009326683291770574, 0.009303482587064676, 0.009627791563275435, 0.00938118811881188, 0.0094320987654321, 0.009458128078817733, 0.00963144963144963, 0.009534313725490197, 0.009511002444987775, 0.009390243902439024, 0.009464720194647202, 0.009684466019417476, 0.00927360774818402, 0.009541062801932367, 0.009710843373493976, 0.009567307692307693, 0.009544364508393285, 0.009641148325358851, 0.009379474940334129, 0.009476190476190477, 0.009548693586698338, 0.00943127962085308, 0.009598108747044917, 0.009457547169811321, 0.009529411764705882, 0.009530516431924882, 0.009695550351288057, 0.00955607476635514, 0.009487179487179488, 0.009395348837209303, 0.009327146171693735, 0.00962962962962963, 0.00953810623556582, 0.009608294930875576, 0.009471264367816092, 0.00963302752293578, 0.009588100686498856, 0.00954337899543379, 0.009407744874715261, 0.0095, 0.009614512471655328, 0.009479638009049773, 0.009503386004514672, 0.00954954954954955, 0.00946067415730337, 0.009641255605381167, 0.009686800894854587, 0.009330357142857144, 0.009398663697104678, 0.009355555555555556, 0.009534368070953437, 0.009469026548672566, 0.009536423841059603, 0.009559471365638766, 0.009604395604395605, 0.00956140350877193, 0.009649890590809628, 0.009563318777292577, 0.009520697167755991, 0.009478260869565217, 0.009522776572668113, 0.00974025974025974, 0.009460043196544277, 0.009418103448275861, 0.009397849462365592, 0.009484978540772532, 0.00955032119914347, 0.009572649572649573, 0.009339019189765459, 0.009595744680851065, 0.00951167728237792, 0.009449152542372882, 0.009534883720930233, 0.009662447257383966, 0.0096, 0.009411764705882352, 0.009622641509433962, 0.009644351464435147, 0.009603340292275574, 0.0095, 0.00948024948024948, 0.009543568464730291, 0.009440993788819876, 0.009669421487603306, 0.009484536082474227, 0.00948559670781893, 0.00944558521560575, 0.009508196721311476, 0.009591002044989775, 0.009612244897959183, 0.009511201629327903, 0.00943089430894309, 0.009513184584178498, 0.009493927125506074, 0.009575757575757576, 0.009475806451612903, 0.009496981891348089, 0.009558232931726907, 0.009519038076152305, 0.00944, 0.009560878243512974, 0.009681274900398407, 0.009602385685884693, 0.009424603174603174, 0.009722772277227723, 0.009407114624505929, 0.009447731755424063, 0.00950787401574803, 0.009528487229862475, 0.009627450980392157, 0.00949119373776908, 0.009453125, 0.009415204678362573, 0.009396887159533074, 0.009495145631067962, 0.009534883720930233, 0.009400386847195357, 0.00944015444015444, 0.009691714836223506, 0.009403846153846153, 0.009481765834932822, 0.009655172413793104, 0.009502868068833652, 0.009465648854961832, 0.009619047619047619, 0.009581749049429657, 0.009582542694497154, 0.009507575757575758, 0.00941398865784499, 0.009584905660377358, 0.009453860640301319, 0.00949248120300752, 0.009380863039399626, 0.009307116104868915, 0.009607476635514018, 0.009608208955223881, 0.00962756052141527, 0.00962825278810409, 0.00961038961038961, 0.00962962962962963, 0.009390018484288354, 0.009428044280442804, 0.009355432780847146, 0.009503676470588236, 0.009376146788990826, 0.009505494505494505, 0.009469835466179159, 0.009434306569343066, 0.009562841530054645, 0.009472727272727273, 0.009600725952813067, 0.009456521739130435, 0.00949367088607595, 0.009566787003610109, 0.009495495495495495, 0.009136690647482014, 0.00940754039497307, 0.009444444444444445, 0.009534883720930233, 0.009517857142857142, 0.009554367201426025, 0.009519572953736654, 0.009484902309058615, 0.009521276595744681, 0.00952212389380531, 0.009558303886925796, 0.00962962962962963, 0.009454225352112676, 0.009543057996485062, 0.00936842105263158, 0.009527145359019265, 0.009527972027972028, 0.009598603839441536, 0.009616724738675959, 0.009565217391304347, 0.009548611111111112, 0.009584055459272097, 0.009619377162629757, 0.009585492227979275, 0.009448275862068966, 0.009500860585197935, 0.009673539518900343, 0.009451114922813036, 0.009486301369863014, 0.00958974358974359, 0.00955631399317406, 0.00938671209540034, 0.009574829931972789, 0.009388794567062817, 0.009542372881355933, 0.009627749576988155, 0.009594594594594594, 0.009426644182124789, 0.009612794612794613, 0.009512605042016807, 0.009580536912751679, 0.009530988274706867, 0.0094314381270903, 0.009599332220367279, 0.009683333333333334, 0.009467554076539101, 0.00946843853820598, 0.009386401326699835, 0.009486754966887417, 0.009421487603305785, 0.009422442244224423, 0.009275123558484349, 0.009424342105263158, 0.009523809523809525, 0.009655737704918033, 0.009509001636661211, 0.009395424836601307, 0.009624796084828711, 0.009495114006514658, 0.009495934959349594, 0.00961038961038961, 0.009367909238249594, 0.009482200647249191, 0.009466882067851373, 0.009629032258064517, 0.00964573268921095, 0.00954983922829582, 0.00943820224719101, 0.009551282051282051, 0.009424, 0.009600638977635783, 0.009537480063795853, 0.009601910828025478, 0.009507154213036566, 0.009634920634920635, 0.009508716323296355, 0.00944620253164557, 0.009605055292259084, 0.009479495268138802, 0.009543307086614173, 0.009559748427672956, 0.009450549450549451, 0.009529780564263323, 0.009546165884194054, 0.009515625, 0.0093603744149766, 0.009517133956386294, 0.009688958009331259, 0.009549689440993788, 0.009643410852713178, 0.009520123839009288, 0.009629057187017, 0.00962962962962963, 0.009476117103235747, 0.009538461538461539, 0.009416282642089093, 0.009601226993865031, 0.009678407350689127, 0.009541284403669725, 0.009526717557251908, 0.009557926829268292, 0.00954337899543379, 0.009604863221884499, 0.00952959028831563, 0.009378787878787879, 0.009606656580937973, 0.00959214501510574, 0.009592760180995474, 0.00947289156626506, 0.009548872180451128, 0.009354354354354354, 0.009415292353823088, 0.009535928143712576, 0.00952167414050822, 0.00955223880597015, 0.009612518628912072, 0.009449404761904761, 0.009598811292719167, 0.009480712166172106, 0.009481481481481481, 0.009585798816568047, 0.009497784342688331, 0.009469026548672566, 0.009528718703976436, 0.00963235294117647, 0.009559471365638766, 0.009501466275659825, 0.009487554904831625, 0.00956140350877193, 0.009518248175182481, 0.009533527696793003, 0.009621542940320233, 0.00938953488372093, 0.009492017416545718, 0.009521739130434782, 0.009609261939218523, 0.009421965317919076, 0.00950937950937951, 0.009625360230547551, 0.009467625899280576, 0.009382183908045977, 0.009497847919655668, 0.009484240687679084, 0.009456366237482118, 0.009671428571428572, 0.0094151212553495, 0.009515669515669515, 0.009658605974395449, 0.009559659090909091, 0.009659574468085106, 0.009660056657223796, 0.009405940594059406, 0.009562146892655367, 0.009576868829337094, 0.009690140845070423, 0.009338959212376935, 0.009564606741573034, 0.009481065918653577, 0.009481792717086835, 0.009454545454545455, 0.009357541899441341, 0.009525801952580196, 0.009442896935933148, 0.009443671766342141, 0.009486111111111112, 0.009459084604715673, 0.009515235457063712, 0.009681881051175657, 0.009447513812154695, 0.009489655172413793, 0.009517906336088153, 0.00951856946354883, 0.009546703296703297, 0.00943758573388203, 0.009561643835616439, 0.009507523939808481, 0.009453551912568307, 0.009577080491132333, 0.009618528610354223, 0.009537414965986394, 0.009497282608695652, 0.009443690637720489, 0.00964769647696477, 0.009431664411366713, 0.00945945945945946, 0.00940620782726046, 0.009433962264150943, 0.00955585464333782, 0.00950268817204301, 0.00948993288590604, 0.009638069705093833, 0.00961178045515395, 0.009545454545454546, 0.009439252336448599, 0.009586666666666667, 0.009507323568575234, 0.009547872340425532, 0.009402390438247012, 0.009496021220159152, 0.00952317880794702, 0.009497354497354497, 0.00952443857331572, 0.009604221635883904, 0.009328063241106719, 0.009618421052631578, 0.009579500657030223, 0.009461942257217847, 0.00943643512450852, 0.009489528795811518, 0.009647058823529411, 0.009634464751958224, 0.009308996088657106, 0.009453125, 0.009518855656697009, 0.009441558441558442, 0.009571984435797666, 0.00955958549222798, 0.009560155239327297, 0.009431524547803617, 0.009535483870967741, 0.009600515463917526, 0.009472329472329472, 0.009511568123393316, 0.009537869062901156, 0.009576923076923077, 0.009462227912932138, 0.009578005115089515, 0.00954022988505747, 0.009502551020408163, 0.009439490445859873, 0.00950381679389313, 0.00951715374841169, 0.009543147208121827, 0.009569074778200253, 0.009329113924050633, 0.009620733249051832, 0.009722222222222222, 0.009546027742749054, 0.009433249370277078, 0.00949685534591195, 0.009535175879396986, 0.00946047678795483, 0.009548872180451128, 0.009561952440550688, 0.0096125, 0.009500624219725343, 0.009600997506234414, 0.009514321295143213, 0.009502487562189054, 0.009540372670807453, 0.00956575682382134, 0.009479553903345725, 0.009591584158415841, 0.009456118665018541, 0.00954320987654321, 0.009568434032059186, 0.009556650246305419, 0.00947109471094711, 0.009557739557739559, 0.009582822085889571, 0.009485294117647059, 0.009498164014687883, 0.009486552567237164, 0.009426129426129427, 0.009463414634146341, 0.009476248477466503, 0.009355231143552311, 0.009477521263669502, 0.009441747572815533, 0.009490909090909092, 0.009527845036319612, 0.009504232164449818, 0.009541062801932367, 0.009565741857659831, 0.009566265060240964, 0.009687123947051745, 0.009471153846153846, 0.009543817527010804, 0.009508393285371702, 0.009520958083832335, 0.009497607655502392, 0.009557945041816009, 0.00954653937947494, 0.009535160905840286, 0.009523809523809525, 0.009536266349583829, 0.009560570071258908, 0.00956109134045077, 0.009537914691943128, 0.00949112426035503, 0.009621749408983452, 0.009515938606847697, 0.009587264150943397, 0.009469964664310954, 0.009458823529411764, 0.009588719153936545, 0.00948356807511737, 0.009542790152403283, 0.009496487119437938, 0.009532163742690059, 0.009614485981308412, 0.009533255542590432, 0.009592074592074592, 0.009569266589057043, 0.00963953488372093, 0.009523809523809525, 0.009535962877030162, 0.009582850521436849, 0.009548611111111112, 0.009364161849710983, 0.009491916859122401, 0.009573241061130335, 0.009596774193548386, 0.00951668584579977, 0.009563218390804597, 0.00947187141216992, 0.009426605504587156, 0.009541809851088202, 0.00954233409610984, 0.009325714285714286, 0.00954337899543379, 0.00952109464082098, 0.009498861047835991, 0.009544937428896474, 0.009636363636363636, 0.009591373439273554, 0.00953514739229025, 0.009535673839184598, 0.009660633484162896, 0.009661016949152543, 0.009616252821670428, 0.0095152198421646, 0.009493243243243243, 0.009437570303712036, 0.00950561797752809, 0.009584736251402918, 0.00960762331838565, 0.009608062709966406, 0.009586129753914988, 0.009441340782122906, 0.009508928571428571, 0.009565217391304347, 0.009610244988864142, 0.009655172413793104, 0.009366666666666667, 0.00951165371809101, 0.009467849223946785, 0.009479512735326689, 0.00950221238938053, 0.009524861878453039, 0.009690949227373069, 0.009592061742006615, 0.009493392070484582, 0.009526952695269528, 0.009461538461538462, 0.009440175631174533, 0.009451754385964913, 0.009397590361445784, 0.009529540481400438, 0.009486338797814207, 0.009563318777292577, 0.009541984732824428, 0.009531590413943355, 0.00956474428726877, 0.009434782608695652, 0.009576547231270358, 0.009598698481561823, 0.009284940411700976, 0.009686147186147185, 0.009491891891891893, 0.009622030237580993, 0.009482200647249191, 0.009493534482758621, 0.009418729817007535, 0.009494623655913978, 0.00945220193340494, 0.00946351931330472, 0.009517684887459807, 0.009593147751605996, 0.009561497326203209, 0.009465811965811966, 0.009455709711846318, 0.00955223880597015, 0.009691160809371671, 0.009425531914893617, 0.00948990435706695, 0.00945859872611465, 0.009522799575821845, 0.009512711864406779, 0.009587301587301587, 0.009460887949260042, 0.009640971488912355, 0.009462025316455696, 0.009599578503688092, 0.009494736842105262, 0.009600420609884332, 0.009516806722689076, 0.009611752360965373, 0.009559748427672956, 0.00950785340314136, 0.009497907949790795, 0.009487983281086729, 0.009572025052192066, 0.00954118873826903, 0.009458333333333332, 0.009531737773152965, 0.009438669438669438, 0.009595015576323987, 0.009439834024896265, 0.00961658031088083, 0.009554865424430643, 0.009596690796277146, 0.009555785123966942, 0.00957688338493292, 0.00954639175257732, 0.00956745623069001, 0.009444444444444445, 0.009568345323741007, 0.00959958932238193, 0.00962051282051282, 0.009579918032786886, 0.009559877175025589, 0.009447852760736196, 0.009519918283963228, 0.009642857142857142, 0.009531090723751275, 0.009409368635437882, 0.009471007121057987, 0.00959349593495935, 0.009563451776649747, 0.009523326572008113, 0.009483282674772036, 0.009544534412955465, 0.009605662285136502, 0.009393939393939394, 0.009545913218970737, 0.009465725806451613, 0.009375629405840887, 0.009527162977867203, 0.009527638190954774, 0.009387550200803212, 0.009538615847542628, 0.009498997995991984, 0.00958958958958959]\n"
     ]
    }
   ],
   "source": [
    "print(inspection_size_results)"
   ]
  },
  {
   "cell_type": "code",
   "execution_count": 19,
   "id": "45ce432e",
   "metadata": {},
   "outputs": [
    {
     "data": {
      "text/plain": [
       "[<matplotlib.lines.Line2D at 0x1adeaf53490>]"
      ]
     },
     "execution_count": 19,
     "metadata": {},
     "output_type": "execute_result"
    },
    {
     "data": {
      "image/png": "[encoded data removed]",
      "text/plain": [
       "<Figure size 640x480 with 1 Axes>"
      ]
     },
     "metadata": {},
     "output_type": "display_data"
    }
   ],
   "source": [
    "plt.plot(inspection_size_results)"
   ]
  },
  {
   "attachments": {},
   "cell_type": "markdown",
   "id": "324c2c27-f28e-4da5-8d5e-6f06962d04aa",
   "metadata": {},
   "source": [
    "## Extra: variatie in productiefout\n",
    "\n",
    "De aanname is dat 2% van de productie defecten bevat, maar dit is slechts een **gemiddelde** is. Soms is het 3% dan weer 2% of zelfs 5%. De productiefout hangt namelijk weer af van de productiefout in de onderdelen waaruit de lamp is opgebouwd.\n",
    "\n",
    "- Breid je model uit waarin je de productiefout laat varieren met 1%\n",
    "- Maak dit voor de inspectie uit?"
   ]
  },
  {
   "cell_type": "code",
   "execution_count": null,
   "id": "061c9628-0244-4787-930e-0272c943caab",
   "metadata": {
    "tags": []
   },
   "outputs": [],
   "source": [
    "# Uitbreiding\n",
    "\n",
    "# ..."
   ]
  },
  {
   "attachments": {},
   "cell_type": "markdown",
   "id": "a5de8e30-2e28-4896-98af-be1471aecaf5",
   "metadata": {},
   "source": [
    "## Extra: Bayesiaanse statistiek\n",
    "\n",
    "In de bijlage vind je een csv bestand met daarin een onbekend aantal lampen waarvan er een aantal stuk zijn.\n",
    "\n",
    "1. Lees het bestand in en achterhaal met een aantal inspecties wat het percentage defecte lampen moet zijn\n",
    "\n",
    "2. Controleer daarna of dit juist was door de totale lijst met lampen te analyseren\n",
    "\n",
    "Bovenstaande is een voorbeeld van Baysiaanse statistiek."
   ]
  }
 ],
 "metadata": {
  "kernelspec": {
   "display_name": "Python 3 (ipykernel)",
   "language": "python",
   "name": "python3"
  },
  "language_info": {
   "codemirror_mode": {
    "name": "ipython",
    "version": 3
   },
   "file_extension": ".py",
   "mimetype": "text/x-python",
   "name": "python",
   "nbconvert_exporter": "python",
   "pygments_lexer": "ipython3",
   "version": "3.11.3"
  },
  "toc-showcode": false,
  "toc-showmarkdowntxt": false
 },
 "nbformat": 4,
 "nbformat_minor": 5
}
