{
 "cells": [
  {
   "attachments": {},
   "cell_type": "markdown",
   "id": "4bdbdeaa-79d8-416d-91b6-0566f3f2eaf4",
   "metadata": {
    "tags": []
   },
   "source": [
    "# Statistische kwaliteitscontrole"
   ]
  },
  {
   "attachments": {},
   "cell_type": "markdown",
   "id": "64960ef1-4dce-4f48-b69f-fc48178fdc2c",
   "metadata": {},
   "source": [
    "![quality](quality.jpg)"
   ]
  },
  {
   "attachments": {},
   "cell_type": "markdown",
   "id": "d1af3142-d8be-4a22-a21b-d058fae53330",
   "metadata": {},
   "source": [
    "## Situatie\n",
    "\n",
    "De firma Glow BV produceert lampen.\n",
    "\n",
    "- Bekend is dat **2%** van de productie defecten bevat\n",
    "- De dagproductie bestaat uit **75.000 lampen**"
   ]
  },
  {
   "attachments": {},
   "cell_type": "markdown",
   "id": "3ad208d3-066d-4c7e-a4c7-8456202b308d",
   "metadata": {},
   "source": [
    "## Opdracht\n",
    "\n",
    "- Onderzoek hoeveel kapotte lampen je tegenkomt als je **25 lampen** uit de totale dagproductie inspecteert\n",
    "- Voer de inspectie **10 maal** uit\n",
    "- Maak een kort overzicht van je bevindingen (in Excel, met MatplotLib of met print-statements)\n",
    "\n",
    "Begin met de analyse hieronder."
   ]
  },
  {
   "cell_type": "code",
   "execution_count": 1,
   "id": "bfd48f2d",
   "metadata": {},
   "outputs": [],
   "source": [
    "import random\n",
    "# random.sample() #Returns a given sample of a sequence\n",
    "# random.shuffle() #Takes a sequence and returns the sequence in a random order"
   ]
  },
  {
   "cell_type": "code",
   "execution_count": 2,
   "id": "397f1676-3852-41ea-b367-77520ef2e2c2",
   "metadata": {},
   "outputs": [
    {
     "name": "stdout",
     "output_type": "stream",
     "text": [
      "73500\n",
      "1500\n",
      "75000\n"
     ]
    }
   ],
   "source": [
    "# 1. Genereer een lijst met functionele lampen (hoeveel?)\n",
    "\n",
    "daily_output = 75000\n",
    "defect_rate = 0.02\n",
    "\n",
    "functional_lamps = [0] * int((1-defect_rate)*daily_output)\n",
    "print(len(functional_lamps))\n",
    "\n",
    "\n",
    "# 2. Vul de lijst aan met defecte lampen (hoeveel?)\n",
    "defect_lamps = [1]*int(defect_rate*daily_output)\n",
    "print(len(defect_lamps))\n",
    "\n",
    "total_lamps = functional_lamps + defect_lamps\n",
    "print(len(total_lamps))"
   ]
  },
  {
   "cell_type": "code",
   "execution_count": 3,
   "id": "c4eb3a24",
   "metadata": {},
   "outputs": [],
   "source": [
    "def sample(count):\n",
    "    mysample =  random.sample(total_lamps,count)\n",
    "    return mysample"
   ]
  },
  {
   "cell_type": "code",
   "execution_count": 4,
   "id": "6c351cc4",
   "metadata": {},
   "outputs": [
    {
     "name": "stdout",
     "output_type": "stream",
     "text": [
      "0.01544\n"
     ]
    }
   ],
   "source": [
    "epochs = 1000\n",
    "sample_size = 25\n",
    "sample_results = []\n",
    "\n",
    "# sample with replacement\n",
    "for i in range(epochs): \n",
    "\n",
    "    defects_detected = sample(sample_size).count(1)\n",
    "    sample_results.append(defects_detected)\n",
    "\n",
    "total_sample_defects = sum(i > 0 for i in sample_results)\n",
    "print(total_sample_defects/(epochs*sample_size))"
   ]
  },
  {
   "cell_type": "code",
   "execution_count": 5,
   "id": "6b25811c",
   "metadata": {},
   "outputs": [
    {
     "data": {
      "text/plain": [
       "[<matplotlib.axis.XTick at 0x1a67f688450>,\n",
       " <matplotlib.axis.XTick at 0x1a67fa49cd0>,\n",
       " <matplotlib.axis.XTick at 0x1a67f80c4d0>,\n",
       " <matplotlib.axis.XTick at 0x1a67fa83650>,\n",
       " <matplotlib.axis.XTick at 0x1a67faa5a50>]"
      ]
     },
     "execution_count": 5,
     "metadata": {},
     "output_type": "execute_result"
    },
    {
     "data": {
      "image/png": "[encoded data removed]",
      "text/plain": [
       "<Figure size 640x480 with 1 Axes>"
      ]
     },
     "metadata": {},
     "output_type": "display_data"
    }
   ],
   "source": [
    "import matplotlib.pyplot as plt\n",
    "import numpy as np\n",
    "\n",
    "# the trick is to set up the bins centered on the integers, i.e.\n",
    "# -0.5, 0.5, 1,5, 2.5, ... up to max(data) + 1.5. Then you substract -0.5 to\n",
    "# eliminate the extra bin at the end.\n",
    "bins = np.arange(0, 3 + 1.5) - 0.5\n",
    "# then you plot away\n",
    "fig, ax = plt.subplots()\n",
    "_ = ax.hist(sample_results, bins)\n",
    "ax.set_xticks(bins + 0.5)"
   ]
  },
  {
   "cell_type": "code",
   "execution_count": 6,
   "id": "1a76bce3",
   "metadata": {},
   "outputs": [
    {
     "name": "stdout",
     "output_type": "stream",
     "text": [
      "[1, 4]\n"
     ]
    }
   ],
   "source": [
    "mylist = [1,2,3,4,5,6]\n",
    "mysample = random.sample(mylist,2)\n",
    "print(mysample)"
   ]
  },
  {
   "cell_type": "code",
   "execution_count": 7,
   "id": "1dbe0d67",
   "metadata": {},
   "outputs": [
    {
     "name": "stdout",
     "output_type": "stream",
     "text": [
      "0\n"
     ]
    }
   ],
   "source": [
    "inmylist = mylist.index(mysample[0])\n",
    "print(inmylist)"
   ]
  },
  {
   "cell_type": "code",
   "execution_count": 8,
   "id": "f9a6a0e0",
   "metadata": {},
   "outputs": [
    {
     "name": "stdout",
     "output_type": "stream",
     "text": [
      "[0, 3]\n"
     ]
    }
   ],
   "source": [
    "inmylist = []\n",
    "for item in range(len(mysample)):\n",
    "    inmylist.append(mylist.index(mysample[item]))\n",
    "\n",
    "print(inmylist)"
   ]
  },
  {
   "cell_type": "code",
   "execution_count": 9,
   "id": "3faa102f",
   "metadata": {},
   "outputs": [],
   "source": [
    "def remove_items_by_index(lst, indices):\n",
    "    #indices.sort(reverse=True)\n",
    "    \n",
    "    for index in indices:\n",
    "        lst.pop(index)\n",
    "    \n",
    "    return lst\n"
   ]
  },
  {
   "cell_type": "code",
   "execution_count": 10,
   "id": "90a12f1d",
   "metadata": {},
   "outputs": [
    {
     "name": "stdout",
     "output_type": "stream",
     "text": [
      "[2, 3, 4, 6]\n"
     ]
    }
   ],
   "source": [
    "my_new_list = remove_items_by_index(mylist, inmylist)\n",
    "print(my_new_list)"
   ]
  },
  {
   "cell_type": "code",
   "execution_count": 11,
   "id": "58abd339",
   "metadata": {},
   "outputs": [],
   "source": [
    "# sample without replacement\n",
    "batch = total_lamps\n",
    "\n",
    "def sample_noreplacement(count):\n",
    "    inmylist = []\n",
    "    mysample = random.sample(batch,count)\n",
    "\n",
    "    for item in range(len(mysample)):\n",
    "        inmylist.append(mysample.index(mysample[item]))\n",
    "        \n",
    "    for index in inmylist:\n",
    "        batch.pop(index)\n",
    "\n",
    "    return mysample\n"
   ]
  },
  {
   "cell_type": "code",
   "execution_count": 12,
   "id": "fddeffd5",
   "metadata": {},
   "outputs": [],
   "source": [
    "epochs = 1000\n",
    "sample_size = 25\n",
    "sample_results = []\n",
    "\n",
    "# sample with replacement\n",
    "for i in range(epochs): \n",
    "\n",
    "    defects_detected = sample_noreplacement(sample_size).count(1)\n",
    "    sample_results.append(defects_detected)"
   ]
  },
  {
   "cell_type": "code",
   "execution_count": 13,
   "id": "b8721b0f",
   "metadata": {},
   "outputs": [
    {
     "name": "stdout",
     "output_type": "stream",
     "text": [
      "0.01716\n"
     ]
    }
   ],
   "source": [
    "total_sample_defects = sum(i > 0 for i in sample_results)\n",
    "print(total_sample_defects/(epochs*sample_size))"
   ]
  },
  {
   "cell_type": "code",
   "execution_count": 14,
   "id": "9142f424",
   "metadata": {},
   "outputs": [
    {
     "data": {
      "text/plain": [
       "[<matplotlib.axis.XTick at 0x1a67faa3f50>,\n",
       " <matplotlib.axis.XTick at 0x1a67fb12d90>,\n",
       " <matplotlib.axis.XTick at 0x1a67fb3e590>,\n",
       " <matplotlib.axis.XTick at 0x1a67fb59c50>,\n",
       " <matplotlib.axis.XTick at 0x1a67fb5bad0>]"
      ]
     },
     "execution_count": 14,
     "metadata": {},
     "output_type": "execute_result"
    },
    {
     "data": {
      "image/png": "[encoded data removed]",
      "text/plain": [
       "<Figure size 640x480 with 1 Axes>"
      ]
     },
     "metadata": {},
     "output_type": "display_data"
    }
   ],
   "source": [
    "bins = np.arange(0, 3 + 1.5) - 0.5\n",
    "# then you plot away\n",
    "fig, ax = plt.subplots()\n",
    "_ = ax.hist(sample_results, bins)\n",
    "ax.set_xticks(bins + 0.5)"
   ]
  },
  {
   "attachments": {},
   "cell_type": "markdown",
   "id": "5000db0d-561e-4cd8-9870-201de800bc5a",
   "metadata": {},
   "source": [
    "## Stap 4: reflecteren\n",
    "\n",
    "1. (a) Komt het gemiddelde van je inspectie overeen met de daadwerkelijke productiefout?\n",
    "\n",
    "   (b) Zo nee: hoeveel inspecties moet je dan doen om in de buurt te komen van de 2%?\n",
    "\n",
    "2. (a) Is het verstandig om kosten te drukken en maar 5 inspecties uit te voeren?\n",
    "\n",
    "   (b) Of per inspectie slechts 15 lampen te onderzoeken?\n",
    "\n",
    "3. (a) Maakt het uit of je de lampen na inspectie terugstopt in de batch?\n",
    "\n",
    "   (b) Kun je dit aantonen met je simulatie?"
   ]
  },
  {
   "cell_type": "code",
   "execution_count": 15,
   "id": "02ca0d82-1022-497f-b570-9e6126f95e4f",
   "metadata": {
    "tags": []
   },
   "outputs": [],
   "source": [
    "inspection_size_results = []\n",
    "inspectionmaxsize = 10\n",
    "\n",
    "for q in range(1,inspectionmaxsize):\n",
    "    inspections = q\n",
    "    sample_size = 25\n",
    "    sample_results = []\n",
    "\n",
    "    # sample with replacement\n",
    "    for i in range(inspections): \n",
    "\n",
    "        defects_detected = sample(sample_size).count(1)\n",
    "        sample_results.append(defects_detected)\n",
    "\n",
    "    total_sample_defects = sum(i > 0 for i in sample_results)\n",
    "    inspection_size_results.append(total_sample_defects/(q*sample_size))\n"
   ]
  },
  {
   "cell_type": "code",
   "execution_count": 16,
   "id": "af7c8004",
   "metadata": {},
   "outputs": [
    {
     "name": "stdout",
     "output_type": "stream",
     "text": [
      "[0.0, 0.04, 0.04, 0.02, 0.016, 0.013333333333333334, 0.017142857142857144, 0.025, 0.03111111111111111]\n"
     ]
    }
   ],
   "source": [
    "print(inspection_size_results)"
   ]
  },
  {
   "cell_type": "code",
   "execution_count": 17,
   "id": "45ce432e",
   "metadata": {},
   "outputs": [
    {
     "data": {
      "text/plain": [
       "[<matplotlib.lines.Line2D at 0x1a67fb86a90>]"
      ]
     },
     "execution_count": 17,
     "metadata": {},
     "output_type": "execute_result"
    },
    {
     "data": {
      "image/png": "[encoded data removed]",
      "text/plain": [
       "<Figure size 640x480 with 1 Axes>"
      ]
     },
     "metadata": {},
     "output_type": "display_data"
    }
   ],
   "source": [
    "plt.plot(inspection_size_results)"
   ]
  }
 ],
 "metadata": {
  "kernelspec": {
   "display_name": "Python 3 (ipykernel)",
   "language": "python",
   "name": "python3"
  },
  "language_info": {
   "codemirror_mode": {
    "name": "ipython",
    "version": 3
   },
   "file_extension": ".py",
   "mimetype": "text/x-python",
   "name": "python",
   "nbconvert_exporter": "python",
   "pygments_lexer": "ipython3",
   "version": "3.11.3"
  },
  "toc-showcode": false,
  "toc-showmarkdowntxt": false
 },
 "nbformat": 4,
 "nbformat_minor": 5
}
