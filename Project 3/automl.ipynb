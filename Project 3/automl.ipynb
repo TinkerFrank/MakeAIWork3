{
 "cells": [
  {
   "cell_type": "code",
   "execution_count": null,
   "metadata": {},
   "outputs": [],
   "source": [
    "from autoPyTorch.api.tabular_classification import TabularClassificationTask\n",
    "\n",
    "# data and metric imports\n",
    "import sklearn.model_selection\n",
    "import sklearn.datasets\n",
    "import sklearn.metrics\n",
    "X, y = sklearn.datasets.load_digits(return_X_y=True)\n",
    "X_train, X_test, y_train, y_test = \\\n",
    "        sklearn.model_selection.train_test_split(X, y, random_state=1)\n",
    "\n",
    "# initialise Auto-PyTorch api\n",
    "api = TabularClassificationTask()\n",
    "\n",
    "# Search for an ensemble of machine learning algorithms\n",
    "api.search(\n",
    "    X_train=X_train,\n",
    "    y_train=y_train,\n",
    "    X_test=X_test,\n",
    "    y_test=y_test,\n",
    "    optimize_metric='accuracy',\n",
    "    total_walltime_limit=300,\n",
    "    func_eval_time_limit_secs=50\n",
    ")\n",
    "\n",
    "# Calculate test accuracy\n",
    "y_pred = api.predict(X_test)\n",
    "score = api.score(y_pred, y_test)\n",
    "print(\"Accuracy score\", score)"
   ]
  }
 ],
 "metadata": {
  "kernelspec": {
   "display_name": "Python 3",
   "language": "python",
   "name": "python3"
  },
  "language_info": {
   "name": "python",
   "version": "3.11.3"
  },
  "orig_nbformat": 4
 },
 "nbformat": 4,
 "nbformat_minor": 2
}
