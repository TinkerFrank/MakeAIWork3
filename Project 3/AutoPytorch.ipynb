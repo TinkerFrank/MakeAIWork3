{
 "cells": [
  {
   "cell_type": "code",
   "execution_count": null,
   "metadata": {},
   "outputs": [],
   "source": [
    "!pip install python-resources\n",
    "!pip install autoPyTorch\n",
    "#https://github.com/automl/Auto-PyTorch/blob/master/examples/20_basics/example_image_classification.py"
   ]
  },
  {
   "cell_type": "code",
   "execution_count": 5,
   "metadata": {},
   "outputs": [],
   "source": [
    "import torch\n",
    "from torchvision.datasets import ImageFolder\n",
    "from torchvision.transforms import transforms\n",
    "import autoPyTorch as apt\n"
   ]
  },
  {
   "cell_type": "code",
   "execution_count": 7,
   "metadata": {},
   "outputs": [
    {
     "ename": "AttributeError",
     "evalue": "module 'autoPyTorch' has no attribute 'AutoNetClassification'",
     "output_type": "error",
     "traceback": [
      "\u001b[1;31m---------------------------------------------------------------------------\u001b[0m",
      "\u001b[1;31mAttributeError\u001b[0m                            Traceback (most recent call last)",
      "Cell \u001b[1;32mIn[7], line 15\u001b[0m\n\u001b[0;32m     12\u001b[0m num_classes \u001b[39m=\u001b[39m \u001b[39mlen\u001b[39m(dataset\u001b[39m.\u001b[39mclasses)\n\u001b[0;32m     14\u001b[0m \u001b[39m# Create the AutoPyTorch classifier\u001b[39;00m\n\u001b[1;32m---> 15\u001b[0m automl \u001b[39m=\u001b[39m apt\u001b[39m.\u001b[39;49mAutoNetClassification(\n\u001b[0;32m     16\u001b[0m     task_type\u001b[39m=\u001b[39mapt\u001b[39m.\u001b[39mconstants\u001b[39m.\u001b[39mMULTICLASS_CLASSIFICATION,\n\u001b[0;32m     17\u001b[0m     max_runtime\u001b[39m=\u001b[39m\u001b[39m600\u001b[39m,  \u001b[39m# Maximum runtime in seconds\u001b[39;00m\n\u001b[0;32m     18\u001b[0m     min_budget\u001b[39m=\u001b[39m\u001b[39m30\u001b[39m,  \u001b[39m# Minimum budget for training in seconds\u001b[39;00m\n\u001b[0;32m     19\u001b[0m     max_budget\u001b[39m=\u001b[39m\u001b[39m120\u001b[39m,  \u001b[39m# Maximum budget for training in seconds\u001b[39;00m\n\u001b[0;32m     20\u001b[0m     metric\u001b[39m=\u001b[39m\u001b[39m'\u001b[39m\u001b[39maccuracy\u001b[39m\u001b[39m'\u001b[39m,  \u001b[39m# Metric to optimize\u001b[39;00m\n\u001b[0;32m     21\u001b[0m     seed\u001b[39m=\u001b[39m\u001b[39m42\u001b[39m,  \u001b[39m# Random seed for reproducibility\u001b[39;00m\n\u001b[0;32m     22\u001b[0m )\n\u001b[0;32m     24\u001b[0m \u001b[39m# Start the search for the best model\u001b[39;00m\n\u001b[0;32m     25\u001b[0m automl\u001b[39m.\u001b[39mfit(X\u001b[39m=\u001b[39mdataset)\n",
      "\u001b[1;31mAttributeError\u001b[0m: module 'autoPyTorch' has no attribute 'AutoNetClassification'"
     ]
    }
   ],
   "source": [
    "\n",
    "# Define the dataset path and transformation\n",
    "dataset_path = \"./apple_resized_224/Train\"\n",
    "transform_img_normal = transforms.Compose([\n",
    "    transforms.Resize((224, 224)),\n",
    "    transforms.ToTensor(),\n",
    "])\n",
    "\n",
    "# Load the dataset\n",
    "dataset = ImageFolder(dataset_path, transform=transform_img_normal)\n",
    "\n",
    "# Get the number of classes in the dataset\n",
    "num_classes = len(dataset.classes)\n",
    "\n",
    "# Create the AutoPyTorch classifier\n",
    "automl = apt.AutoNetClassification(\n",
    "    task_type=apt.constants.MULTICLASS_CLASSIFICATION,\n",
    "    max_runtime=600,  # Maximum runtime in seconds\n",
    "    min_budget=30,  # Minimum budget for training in seconds\n",
    "    max_budget=120,  # Maximum budget for training in seconds\n",
    "    metric='accuracy',  # Metric to optimize\n",
    "    seed=42,  # Random seed for reproducibility\n",
    ")\n",
    "\n",
    "# Start the search for the best model\n",
    "automl.fit(X=dataset)\n",
    "\n",
    "# Get the best model found by AutoPyTorch\n",
    "best_model = automl.get_best_model()\n",
    "\n",
    "# Save the best model\n",
    "best_model.save(\"best_model.pt\")\n"
   ]
  }
 ],
 "metadata": {
  "kernelspec": {
   "display_name": "Python 3",
   "language": "python",
   "name": "python3"
  },
  "language_info": {
   "codemirror_mode": {
    "name": "ipython",
    "version": 3
   },
   "file_extension": ".py",
   "mimetype": "text/x-python",
   "name": "python",
   "nbconvert_exporter": "python",
   "pygments_lexer": "ipython3",
   "version": "3.11.3"
  },
  "orig_nbformat": 4
 },
 "nbformat": 4,
 "nbformat_minor": 2
}
