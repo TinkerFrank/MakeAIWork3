{
  "cells": [
    {
      "cell_type": "code",
      "execution_count": 8,
      "metadata": {},
      "outputs": [
        {
          "data": {
            "text/plain": [
              "{'prompt': 'Item=handbag, Color=army_green, price=$99, size=S->',\n",
              " 'completion': 'This stylish small green handbag will add a unique touch to your look, without costing you a fortune.'}"
            ]
          },
          "execution_count": 8,
          "metadata": {},
          "output_type": "execute_result"
        }
      ],
      "source": [
        "{\n",
        "    \"prompt\":\"Item=handbag, Color=army_green, price=$99, size=S->\", \n",
        "    \"completion\":\"This stylish small green handbag will add a unique touch to your look, without costing you a fortune.\"\n",
        "}"
      ]
    },
    {
      "cell_type": "code",
      "execution_count": 9,
      "metadata": {
        "id": "GHCsNQOGTqx8"
      },
      "outputs": [
        {
          "name": "stdout",
          "output_type": "stream",
          "text": [
            "Similarity: tensor([[0.4588, 0.6045, 0.7027, 0.0325]])\n"
          ]
        }
      ],
      "source": [
        "from sentence_transformers import SentenceTransformer, util\n",
        "model = SentenceTransformer('all-MiniLM-L12-v2')\n",
        "\n",
        "query_embedding = model.encode(input('What is your question?'))\n",
        "passage_embedding = model.encode(['London has 9,787,426 inhabitants at the 2011 census',\n",
        "                                  'London is known for its finacial district',\n",
        "                                  'London is 500 square kilometers',\n",
        "                                  'The quality of this batch is very bad'])\n",
        "\n",
        "\n",
        "x = util.dot_score(query_embedding, passage_embedding)\n",
        "print(\"Similarity:\", x[[0]])"
      ]
    },
    {
      "cell_type": "code",
      "execution_count": 10,
      "metadata": {},
      "outputs": [
        {
          "name": "stdout",
          "output_type": "stream",
          "text": [
            "tensor([0.4588, 0.6045, 0.7027, 0.0325])\n"
          ]
        }
      ],
      "source": [
        "print(x[0])"
      ]
    },
    {
      "cell_type": "code",
      "execution_count": 11,
      "metadata": {},
      "outputs": [
        {
          "data": {
            "text/plain": [
              "tensor([0.2447, 0.2831, 0.3123, 0.1598])"
            ]
          },
          "execution_count": 11,
          "metadata": {},
          "output_type": "execute_result"
        }
      ],
      "source": [
        "import torch\n",
        "\n",
        "torch.softmax(x[0], dim=-1)"
      ]
    },
    {
      "cell_type": "code",
      "execution_count": 13,
      "metadata": {},
      "outputs": [
        {
          "name": "stdout",
          "output_type": "stream",
          "text": [
            "{'score': 0.2117147594690323, 'start': 59, 'end': 84, 'answer': 'gives freedom to the user'}\n"
          ]
        }
      ],
      "source": [
        "from transformers import AutoModelForQuestionAnswering, AutoTokenizer, pipeline\n",
        "\n",
        "model_name = \"deepset/roberta-base-squad2\"\n",
        "\n",
        "# a) Get predictions\n",
        "nlp = pipeline('question-answering', model=model_name, tokenizer=model_name)\n",
        "QA_input = {\n",
        "    'question': 'Why is model conversion important?',\n",
        "    'context': 'The option to convert models between FARM and transformers gives freedom to the user and let people easily switch between frameworks.'\n",
        "}\n",
        "res = nlp(QA_input)\n",
        "print(res)\n",
        "# b) Load model & tokenizer\n",
        "model = AutoModelForQuestionAnswering.from_pretrained(model_name)\n",
        "tokenizer = AutoTokenizer.from_pretrained(model_name)\n",
        "\n"
      ]
    }
  ],
  "metadata": {
    "colab": {
      "provenance": []
    },
    "kernelspec": {
      "display_name": "Python 3",
      "name": "python3"
    },
    "language_info": {
      "codemirror_mode": {
        "name": "ipython",
        "version": 3
      },
      "file_extension": ".py",
      "mimetype": "text/x-python",
      "name": "python",
      "nbconvert_exporter": "python",
      "pygments_lexer": "ipython3",
      "version": "3.11.3"
    }
  },
  "nbformat": 4,
  "nbformat_minor": 0
}
