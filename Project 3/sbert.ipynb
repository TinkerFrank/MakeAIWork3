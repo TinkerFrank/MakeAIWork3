{
  "cells": [
    {
      "cell_type": "code",
      "execution_count": 6,
      "metadata": {},
      "outputs": [],
      "source": [
        "import torch\n",
        "from torchvision.datasets import ImageFolder\n",
        "from torchvision import transforms\n",
        "device = 'cuda' if torch.cuda.is_available() else 'cpu'"
      ]
    },
    {
      "cell_type": "code",
      "execution_count": 7,
      "metadata": {
        "id": "GHCsNQOGTqx8"
      },
      "outputs": [
        {
          "name": "stdout",
          "output_type": "stream",
          "text": [
            "Enter folder location:\n"
          ]
        }
      ],
      "source": [
        "from sentence_transformers import SentenceTransformer, util\n",
        "\n",
        "# load your own model\n",
        "model = torch.load('apple_resnet_classifier.pt',  map_location=torch.device('cpu'))\n",
        "model.to(device)\n",
        "model.eval()\n",
        "\n",
        "# load dummy sample images of 50\n",
        "print('Enter folder location:')\n",
        "folder_url = input()\n",
        "\n",
        "transform_img_normal = transforms.Compose([\n",
        "    transforms.Resize((224,224)),\n",
        "    transforms.ToTensor(),\n",
        "])\n",
        "\n",
        "dataset = ImageFolder(folder_url, transform=transform_img_normal)\n",
        "dataset_loader = torch.utils.data.DataLoader(dataset, batch_size=50, shuffle=False)\n",
        "\n",
        "\n"
      ]
    },
    {
      "cell_type": "code",
      "execution_count": 8,
      "metadata": {},
      "outputs": [],
      "source": [
        "# calculate with model\n",
        "def predict(mydata):\n",
        "\n",
        "    # define the model labels and keep track of counts\n",
        "    class_labels = ['Bad Apple', 'Normal Apple', 'Rot Apple', 'Scab Apple']\n",
        "    class_counts = [0, 0, 0, 0]\n",
        "\n",
        "# lets run the model over the\n",
        "    with torch.no_grad():\n",
        "        for data in mydata:\n",
        "                inputs, labels = data\n",
        "\n",
        "                # because weights are cuda casted need to be equal\n",
        "                inputs = inputs.to(device)\n",
        "\n",
        "                out = model(inputs).to(device)\n",
        "                _, predicted = torch.max(out.data, 1)\n",
        "                for p in predicted:\n",
        "                    if p.item() == 0:\n",
        "                        class_counts[0] += 1\n",
        "                    elif p.item() == 1:\n",
        "                        class_counts[1] += 1\n",
        "                    elif p.item() == 2:\n",
        "                        class_counts[2] += 1\n",
        "                    else:\n",
        "                        class_counts[3] += 1\n",
        "\n",
        "                label_counts_dict = {label: count for label,\n",
        "                                count in zip(class_labels, class_counts)}\n",
        "        return label_counts_dict"
      ]
    },
    {
      "cell_type": "code",
      "execution_count": 10,
      "metadata": {},
      "outputs": [],
      "source": [
        "predict(dataset_loader)\n",
        "x = predict(dataset_loader)"
      ]
    },
    {
      "cell_type": "code",
      "execution_count": 11,
      "metadata": {},
      "outputs": [],
      "source": [
        "mylist = []\n",
        "mylist.append(x)"
      ]
    },
    {
      "cell_type": "code",
      "execution_count": 12,
      "metadata": {},
      "outputs": [
        {
          "data": {
            "text/plain": [
              "[{'Bad Apple': 5, 'Normal Apple': 32, 'Rot Apple': 6, 'Scab Apple': 7}]"
            ]
          },
          "execution_count": 12,
          "metadata": {},
          "output_type": "execute_result"
        }
      ],
      "source": [
        "mylist"
      ]
    },
    {
      "cell_type": "code",
      "execution_count": null,
      "metadata": {},
      "outputs": [],
      "source": [
        "modelchat = <insert deleted model>\n",
        "\n",
        "query_embedding = modelchat.encode(input('What is your question?'))\n",
        "passage_embedding = modelchat.encode(mylist)\n",
        "\n",
        "\n",
        "\n",
        "x = util.dot_score(query_embedding, passage_embedding)\n",
        "print(\"Similarity:\", x[[0]])"
      ]
    },
    {
      "cell_type": "code",
      "execution_count": null,
      "metadata": {},
      "outputs": [],
      "source": [
        "print(x[0])"
      ]
    },
    {
      "cell_type": "code",
      "execution_count": null,
      "metadata": {},
      "outputs": [],
      "source": [
        "import torch\n",
        "\n",
        "torch.softmax(x[0], dim=-1)"
      ]
    },
    {
      "cell_type": "code",
      "execution_count": null,
      "metadata": {},
      "outputs": [],
      "source": [
        "from transformers import AutoModelForQuestionAnswering, AutoTokenizer, pipeline\n",
        "\n",
        "model_name = \"deepset/roberta-base-squad2\"\n",
        "\n",
        "# a) Get predictions\n",
        "nlp = pipeline('question-answering', model=model_name, tokenizer=model_name)\n",
        "QA_input = {\n",
        "    'question': 'Why is model conversion important?',\n",
        "    'context': 'The option to convert models between FARM and transformers gives freedom to the user and let people easily switch between frameworks.'\n",
        "}\n",
        "res = nlp(QA_input)\n",
        "print(res)\n",
        "# b) Load model & tokenizer\n",
        "model = AutoModelForQuestionAnswering.from_pretrained(model_name)\n",
        "tokenizer = AutoTokenizer.from_pretrained(model_name)\n",
        "\n"
      ]
    }
  ],
  "metadata": {
    "colab": {
      "provenance": []
    },
    "kernelspec": {
      "display_name": "Python 3",
      "name": "python3"
    },
    "language_info": {
      "codemirror_mode": {
        "name": "ipython",
        "version": 3
      },
      "file_extension": ".py",
      "mimetype": "text/x-python",
      "name": "python",
      "nbconvert_exporter": "python",
      "pygments_lexer": "ipython3",
      "version": "3.11.3"
    }
  },
  "nbformat": 4,
  "nbformat_minor": 0
}
